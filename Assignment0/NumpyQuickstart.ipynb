{
 "cells": [
  {
   "cell_type": "markdown",
   "id": "e5b394d4",
   "metadata": {},
   "source": [
    "# NumPy quickstart"
   ]
  },
  {
   "cell_type": "markdown",
   "id": "3c042e17",
   "metadata": {},
   "source": [
    "## Learner profile\n",
    "\n",
    "This is a quick overview of arrays in NumPy. It demonstrates how n-dimensional (\n",
    ") arrays are represented and can be manipulated. In particular, if you don’t know how to apply common functions to n-dimensional arrays (without using for-loops), or if you want to understand axis and shape properties for n-dimensional arrays, this article might be of help.\n",
    "\n",
    "## Learning Objectives\n",
    "\n",
    "After reading, you should be able to:\n",
    "\n",
    "* Understand the difference between one-, two- and n-dimensional arrays in NumPy;\n",
    "\n",
    "* Understand how to apply some linear algebra operations to n-dimensional arrays without using for-loops;\n",
    "\n",
    "* Understand axis and shape properties for n-dimensional arrays."
   ]
  },
  {
   "cell_type": "markdown",
   "id": "8afc22f6",
   "metadata": {},
   "source": [
    "## The Basics\n",
    "NumPy’s main object is the homogeneous multidimensional array. It is a table of elements (usually numbers), all of the same type, indexed by a tuple of non-negative integers. In NumPy dimensions are called axes.\n",
    "\n",
    "For example, the array for the coordinates of a point in 3D space, [1, 2, 1], has one axis. That axis has 3 elements in it, so we say it has a length of 3. In the example pictured below, the array has 2 axes. The first axis has a length of 2, the second axis has a length of 3.\n",
    "\n",
    "[[1., 0., 0.],\n",
    " [0., 1., 2.]]\n",
    "\n",
    "NumPy’s array class is called ndarray. It is also known by the alias array. Note that numpy.array is not the same as the Standard Python Library class array.array, which only handles one-dimensional arrays and offers less functionality. The more important attributes of an ndarray object are:\n",
    "\n",
    "### ndarray.ndim\n",
    "    the number of axes (dimensions) of the array.\n",
    "\n",
    "### ndarray.shape\n",
    "    the dimensions of the array. This is a tuple of integers indicating the size of the array in each dimension. \n",
    "    For a matrix with n rows and m columns, shape will be (n,m). The length of the shape tuple is therefore the number of axes,\n",
    "    ndim.\n",
    "\n",
    "### ndarray.size\n",
    "    the total number of elements of the array. This is equal to the product of the elements of shape.\n",
    "\n",
    "### ndarray.dtype\n",
    "    an object describing the type of the elements in the array. One can create or specify dtype’s using standard Python types.\n",
    "    Additionally NumPy provides types of its own. numpy.int32, numpy.int16, and numpy.float64 are some examples.\n",
    "\n",
    "### ndarray.itemsize\n",
    "    the size in bytes of each element of the array. For example, an array of elements of type float64 has itemsize 8 (=64/8),\n",
    "    while one of type complex32 has itemsize 4 (=32/8). It is equivalent to ndarray.dtype.itemsize.\n",
    "\n",
    "### ndarray.data\n",
    "    the buffer containing the actual elements of the array. Normally, we won’t need to use this attribute because we will access\n",
    "    the elements in an array using indexing facilities."
   ]
  },
  {
   "cell_type": "markdown",
   "id": "bc70358c",
   "metadata": {},
   "source": [
    "## An Example"
   ]
  },
  {
   "cell_type": "code",
   "execution_count": 16,
   "id": "3394143e",
   "metadata": {},
   "outputs": [
    {
     "data": {
      "text/plain": [
       "array([[ 0,  1,  2,  3,  4],\n",
       "       [ 5,  6,  7,  8,  9],\n",
       "       [10, 11, 12, 13, 14]])"
      ]
     },
     "execution_count": 16,
     "metadata": {},
     "output_type": "execute_result"
    }
   ],
   "source": [
    "import numpy as np\n",
    "a = np.arange(15).reshape(3,5)\n",
    "a"
   ]
  },
  {
   "cell_type": "code",
   "execution_count": 17,
   "id": "d268786b",
   "metadata": {},
   "outputs": [
    {
     "data": {
      "text/plain": [
       "(3, 5)"
      ]
     },
     "execution_count": 17,
     "metadata": {},
     "output_type": "execute_result"
    }
   ],
   "source": [
    "a.shape"
   ]
  },
  {
   "cell_type": "code",
   "execution_count": 18,
   "id": "de49b26b",
   "metadata": {},
   "outputs": [
    {
     "data": {
      "text/plain": [
       "2"
      ]
     },
     "execution_count": 18,
     "metadata": {},
     "output_type": "execute_result"
    }
   ],
   "source": [
    "a.ndim"
   ]
  },
  {
   "cell_type": "code",
   "execution_count": 19,
   "id": "549a1f98",
   "metadata": {},
   "outputs": [
    {
     "data": {
      "text/plain": [
       "'int32'"
      ]
     },
     "execution_count": 19,
     "metadata": {},
     "output_type": "execute_result"
    }
   ],
   "source": [
    "a.dtype.name"
   ]
  },
  {
   "cell_type": "code",
   "execution_count": 20,
   "id": "d755ab48",
   "metadata": {},
   "outputs": [
    {
     "data": {
      "text/plain": [
       "4"
      ]
     },
     "execution_count": 20,
     "metadata": {},
     "output_type": "execute_result"
    }
   ],
   "source": [
    "a.itemsize"
   ]
  },
  {
   "cell_type": "code",
   "execution_count": 21,
   "id": "69f05b02",
   "metadata": {},
   "outputs": [
    {
     "data": {
      "text/plain": [
       "15"
      ]
     },
     "execution_count": 21,
     "metadata": {},
     "output_type": "execute_result"
    }
   ],
   "source": [
    "a.size"
   ]
  },
  {
   "cell_type": "code",
   "execution_count": 22,
   "id": "ccc4c04b",
   "metadata": {},
   "outputs": [
    {
     "data": {
      "text/plain": [
       "numpy.ndarray"
      ]
     },
     "execution_count": 22,
     "metadata": {},
     "output_type": "execute_result"
    }
   ],
   "source": [
    "type(a)"
   ]
  },
  {
   "cell_type": "code",
   "execution_count": 23,
   "id": "78419041",
   "metadata": {},
   "outputs": [
    {
     "data": {
      "text/plain": [
       "array([6, 7, 8])"
      ]
     },
     "execution_count": 23,
     "metadata": {},
     "output_type": "execute_result"
    }
   ],
   "source": [
    "b = np.array([6,7,8])\n",
    "b"
   ]
  },
  {
   "cell_type": "code",
   "execution_count": 24,
   "id": "91881c0a-4684-4a21-b02c-86c0617e10b9",
   "metadata": {},
   "outputs": [
    {
     "data": {
      "text/plain": [
       "numpy.ndarray"
      ]
     },
     "execution_count": 24,
     "metadata": {},
     "output_type": "execute_result"
    }
   ],
   "source": [
    "type(b)"
   ]
  },
  {
   "cell_type": "markdown",
   "id": "0e9831a8-2f1b-4a92-bd37-1b898cde612c",
   "metadata": {},
   "source": [
    "## Array Creation\n",
    "There are several ways to create arrays.\n",
    "\n",
    "For example, you can create an array from a regular Python list or tuple using the array function. The type of the resulting array is deduced from the type of the elements in the sequences."
   ]
  },
  {
   "cell_type": "code",
   "execution_count": 25,
   "id": "e2f274b3-10e8-4230-b2fe-0beaeffad8da",
   "metadata": {},
   "outputs": [
    {
     "data": {
      "text/plain": [
       "array([2, 3, 4])"
      ]
     },
     "execution_count": 25,
     "metadata": {},
     "output_type": "execute_result"
    }
   ],
   "source": [
    "import numpy as np\n",
    "a = np.array([2,3,4])\n",
    "a"
   ]
  },
  {
   "cell_type": "code",
   "execution_count": 26,
   "id": "a967d361-a541-4db8-9913-bd61646e2625",
   "metadata": {},
   "outputs": [
    {
     "data": {
      "text/plain": [
       "dtype('int32')"
      ]
     },
     "execution_count": 26,
     "metadata": {},
     "output_type": "execute_result"
    }
   ],
   "source": [
    "a.dtype"
   ]
  },
  {
   "cell_type": "code",
   "execution_count": 27,
   "id": "475f316b-e894-4788-809c-e8acac5fec3d",
   "metadata": {},
   "outputs": [
    {
     "data": {
      "text/plain": [
       "array([1.2, 3.5, 5.1])"
      ]
     },
     "execution_count": 27,
     "metadata": {},
     "output_type": "execute_result"
    }
   ],
   "source": [
    "b = np.array([1.2, 3.5, 5.1])\n",
    "b"
   ]
  },
  {
   "cell_type": "code",
   "execution_count": 28,
   "id": "f0a857cd-edae-4406-a7a6-c471bd8b7147",
   "metadata": {},
   "outputs": [
    {
     "data": {
      "text/plain": [
       "dtype('float64')"
      ]
     },
     "execution_count": 28,
     "metadata": {},
     "output_type": "execute_result"
    }
   ],
   "source": [
    "b.dtype"
   ]
  },
  {
   "cell_type": "markdown",
   "id": "75488d12-84b5-415b-bece-7d754978dfb0",
   "metadata": {},
   "source": [
    "A frequent error consists in calling array with multiple arguments, rather than providing a single sequence as an argument."
   ]
  },
  {
   "cell_type": "code",
   "execution_count": 29,
   "id": "cd2ad5ac-78d9-48fa-ac15-baa303db79fb",
   "metadata": {},
   "outputs": [
    {
     "ename": "TypeError",
     "evalue": "array() takes from 1 to 2 positional arguments but 4 were given",
     "output_type": "error",
     "traceback": [
      "\u001b[1;31m---------------------------------------------------------------------------\u001b[0m",
      "\u001b[1;31mTypeError\u001b[0m                                 Traceback (most recent call last)",
      "Cell \u001b[1;32mIn[29], line 1\u001b[0m\n\u001b[1;32m----> 1\u001b[0m a \u001b[38;5;241m=\u001b[39m \u001b[43mnp\u001b[49m\u001b[38;5;241;43m.\u001b[39;49m\u001b[43marray\u001b[49m\u001b[43m(\u001b[49m\u001b[38;5;241;43m1\u001b[39;49m\u001b[43m,\u001b[49m\u001b[38;5;241;43m2\u001b[39;49m\u001b[43m,\u001b[49m\u001b[38;5;241;43m3\u001b[39;49m\u001b[43m,\u001b[49m\u001b[38;5;241;43m4\u001b[39;49m\u001b[43m)\u001b[49m\n",
      "\u001b[1;31mTypeError\u001b[0m: array() takes from 1 to 2 positional arguments but 4 were given"
     ]
    }
   ],
   "source": [
    "a = np.array(1,2,3,4)  # Wrong"
   ]
  },
  {
   "cell_type": "code",
   "execution_count": 31,
   "id": "7a410a4f-a3d9-40d7-be0e-e856f4292fdc",
   "metadata": {},
   "outputs": [
    {
     "data": {
      "text/plain": [
       "array([1, 2, 3, 4])"
      ]
     },
     "execution_count": 31,
     "metadata": {},
     "output_type": "execute_result"
    }
   ],
   "source": [
    "a = np.array([1,2,3,4])\n",
    "a"
   ]
  },
  {
   "cell_type": "markdown",
   "id": "a86334bb-0f32-4683-b9aa-29e6fb747b19",
   "metadata": {},
   "source": [
    "array transforms sequences of sequences into two-dimensional arrays, sequences of sequences of sequences into three-dimensional arrays, and so on."
   ]
  },
  {
   "cell_type": "code",
   "execution_count": 32,
   "id": "c4fedc9b-ac05-43f8-8049-6e4bc6f2bb96",
   "metadata": {},
   "outputs": [
    {
     "data": {
      "text/plain": [
       "array([[1.5, 2. , 3. ],\n",
       "       [4. , 5. , 6. ]])"
      ]
     },
     "execution_count": 32,
     "metadata": {},
     "output_type": "execute_result"
    }
   ],
   "source": [
    "b = np.array([(1.5, 2, 3), (4, 5, 6)])\n",
    "b"
   ]
  },
  {
   "cell_type": "markdown",
   "id": "4c8ed1bc-1828-44e7-b240-5fdada485721",
   "metadata": {},
   "source": [
    "The type of the array can also be explicitly specified at creation time:"
   ]
  },
  {
   "cell_type": "code",
   "execution_count": 33,
   "id": "cfdd9eda-146e-4f1e-bf3b-4a67c53a3005",
   "metadata": {},
   "outputs": [
    {
     "data": {
      "text/plain": [
       "array([[1.+0.j, 2.+0.j],\n",
       "       [3.+0.j, 4.+0.j]])"
      ]
     },
     "execution_count": 33,
     "metadata": {},
     "output_type": "execute_result"
    }
   ],
   "source": [
    "c = np.array([[1, 2], [3, 4]], dtype=complex)\n",
    "c"
   ]
  },
  {
   "cell_type": "markdown",
   "id": "b569908c-262f-4325-850e-346eb9a573ea",
   "metadata": {},
   "source": [
    "Often, the elements of an array are originally unknown, but its size is known. Hence, NumPy offers several functions to create arrays with initial placeholder content. These minimize the necessity of growing arrays, an expensive operation.\n",
    "\n",
    "The function zeros creates an array full of zeros, the function ones creates an array full of ones, and the function empty creates an array whose initial content is random and depends on the state of the memory. By default, the dtype of the created array is float64, but it can be specified via the key word argument dtype."
   ]
  },
  {
   "cell_type": "code",
   "execution_count": 34,
   "id": "66c3fb5d-b7f2-480c-93e0-b7c7bcac77ab",
   "metadata": {},
   "outputs": [
    {
     "data": {
      "text/plain": [
       "array([[0., 0., 0., 0.],\n",
       "       [0., 0., 0., 0.],\n",
       "       [0., 0., 0., 0.]])"
      ]
     },
     "execution_count": 34,
     "metadata": {},
     "output_type": "execute_result"
    }
   ],
   "source": [
    "np.zeros((3,4))"
   ]
  },
  {
   "cell_type": "code",
   "execution_count": 35,
   "id": "f0cb8177-dc15-4161-9fd6-b9148d24b9d1",
   "metadata": {},
   "outputs": [
    {
     "data": {
      "text/plain": [
       "array([[[1, 1, 1, 1],\n",
       "        [1, 1, 1, 1],\n",
       "        [1, 1, 1, 1]],\n",
       "\n",
       "       [[1, 1, 1, 1],\n",
       "        [1, 1, 1, 1],\n",
       "        [1, 1, 1, 1]]], dtype=int16)"
      ]
     },
     "execution_count": 35,
     "metadata": {},
     "output_type": "execute_result"
    }
   ],
   "source": [
    "np.ones((2,3,4), dtype=np.int16)"
   ]
  },
  {
   "cell_type": "code",
   "execution_count": 36,
   "id": "ab14afea-a80a-461f-8e2e-3921cbab6e41",
   "metadata": {},
   "outputs": [
    {
     "data": {
      "text/plain": [
       "array([[1.5, 2. , 3. ],\n",
       "       [4. , 5. , 6. ]])"
      ]
     },
     "execution_count": 36,
     "metadata": {},
     "output_type": "execute_result"
    }
   ],
   "source": [
    "np.empty((2,3))"
   ]
  },
  {
   "cell_type": "markdown",
   "id": "5969ead4-77de-46b2-93d2-41fa7292029f",
   "metadata": {},
   "source": [
    "To create sequences of numbers, NumPy provides the arange function which is analogous to the Python built-in range, but returns an array."
   ]
  },
  {
   "cell_type": "code",
   "execution_count": 37,
   "id": "67b36a5a-db63-4950-be5e-90b8ee1c5aab",
   "metadata": {},
   "outputs": [
    {
     "data": {
      "text/plain": [
       "array([10, 15, 20, 25])"
      ]
     },
     "execution_count": 37,
     "metadata": {},
     "output_type": "execute_result"
    }
   ],
   "source": [
    "np.arange(10,30,5)"
   ]
  },
  {
   "cell_type": "code",
   "execution_count": 38,
   "id": "eb42390a-9876-4e1c-bd81-6f5df16c4d3b",
   "metadata": {},
   "outputs": [
    {
     "data": {
      "text/plain": [
       "array([0. , 0.3, 0.6, 0.9, 1.2, 1.5, 1.8])"
      ]
     },
     "execution_count": 38,
     "metadata": {},
     "output_type": "execute_result"
    }
   ],
   "source": [
    "np.arange(0,2,0.3)"
   ]
  },
  {
   "cell_type": "markdown",
   "id": "f1688686-6c3a-46be-a841-7904b1d56c9f",
   "metadata": {},
   "source": [
    "When arange is used with floating point arguments, it is generally not possible to predict the number of elements obtained, due to the finite floating point precision. For this reason, it is usually better to use the function linspace that receives as an argument the number of elements that we want, instead of the step:"
   ]
  },
  {
   "cell_type": "code",
   "execution_count": 39,
   "id": "59c36723-b26f-427e-9b73-650cc0af064b",
   "metadata": {},
   "outputs": [
    {
     "data": {
      "text/plain": [
       "array([0.  , 0.25, 0.5 , 0.75, 1.  , 1.25, 1.5 , 1.75, 2.  ])"
      ]
     },
     "execution_count": 39,
     "metadata": {},
     "output_type": "execute_result"
    }
   ],
   "source": [
    "from numpy import pi\n",
    "np.linspace(0,2,9)"
   ]
  },
  {
   "cell_type": "code",
   "execution_count": 59,
   "id": "f19bce5d-457d-40ac-96a0-6eb97f317a0a",
   "metadata": {},
   "outputs": [],
   "source": [
    "x = np.linspace(0, 2 * pi, 100)\n",
    "f = np.sin(x)"
   ]
  },
  {
   "cell_type": "markdown",
   "id": "2bfb2968-f2d8-4e02-a087-172ea5d4bddb",
   "metadata": {},
   "source": [
    "## Printing Arrays\n",
    "When you print an array, NumPy displays it in a similar way to nested lists, but with the following layout:"
   ]
  },
  {
   "cell_type": "markdown",
   "id": "b937aa6e-7a28-4413-82a0-8b173b0090c0",
   "metadata": {},
   "source": [
    "* the last axis is printed from left to right,\n",
    "* the second-to-last is printed from top to bottom,\n",
    "* the rest are also printed from top to bottom, with each slice separated from the next by an empty line."
   ]
  },
  {
   "cell_type": "markdown",
   "id": "a142a5b4-3d4d-45d7-a31e-fbc9cbbeee6a",
   "metadata": {},
   "source": [
    "One-dimensional arrays are then printed as rows, bidimensionals as matrices and tridimensionals as lists of matrices."
   ]
  },
  {
   "cell_type": "code",
   "execution_count": 41,
   "id": "38faa84e-22b0-4fae-81a3-9bfc3a665f21",
   "metadata": {},
   "outputs": [
    {
     "name": "stdout",
     "output_type": "stream",
     "text": [
      "[0 1 2 3 4 5]\n"
     ]
    }
   ],
   "source": [
    "a = np.arange(6)   # 1D array\n",
    "print(a)"
   ]
  },
  {
   "cell_type": "code",
   "execution_count": 42,
   "id": "f5bf9d51-0d87-4dcf-8f9d-5f13d1a1e4fb",
   "metadata": {},
   "outputs": [
    {
     "name": "stdout",
     "output_type": "stream",
     "text": [
      "[[ 0  1  2]\n",
      " [ 3  4  5]\n",
      " [ 6  7  8]\n",
      " [ 9 10 11]]\n"
     ]
    }
   ],
   "source": [
    "b = np.arange(12).reshape(4,3)   # 2D array\n",
    "print(b)"
   ]
  },
  {
   "cell_type": "code",
   "execution_count": 43,
   "id": "63865cbe-295c-4898-b46a-bdaf0d80aac6",
   "metadata": {},
   "outputs": [
    {
     "name": "stdout",
     "output_type": "stream",
     "text": [
      "[[[ 0  1  2  3]\n",
      "  [ 4  5  6  7]\n",
      "  [ 8  9 10 11]]\n",
      "\n",
      " [[12 13 14 15]\n",
      "  [16 17 18 19]\n",
      "  [20 21 22 23]]]\n"
     ]
    }
   ],
   "source": [
    "c = np.arange(24).reshape(2,3,4)   # 3D array\n",
    "print(c)"
   ]
  },
  {
   "cell_type": "markdown",
   "id": "00b9da37-67d3-4382-97d2-0c2a0a7c200a",
   "metadata": {},
   "source": [
    "See below to get more details on reshape.\n",
    "\n",
    "If an array is too large to be printed, NumPy automatically skips the central part of the array and only prints the corners:"
   ]
  },
  {
   "cell_type": "code",
   "execution_count": 44,
   "id": "1a0b9d27-df0f-444b-8ddb-6bf891f14691",
   "metadata": {},
   "outputs": [
    {
     "name": "stdout",
     "output_type": "stream",
     "text": [
      "[   0    1    2 ... 9997 9998 9999]\n"
     ]
    }
   ],
   "source": [
    "print(np.arange(10000))"
   ]
  },
  {
   "cell_type": "code",
   "execution_count": 45,
   "id": "66216274-19ed-411e-8e0e-e6304ced2217",
   "metadata": {},
   "outputs": [
    {
     "name": "stdout",
     "output_type": "stream",
     "text": [
      "[[   0    1    2 ...   97   98   99]\n",
      " [ 100  101  102 ...  197  198  199]\n",
      " [ 200  201  202 ...  297  298  299]\n",
      " ...\n",
      " [9700 9701 9702 ... 9797 9798 9799]\n",
      " [9800 9801 9802 ... 9897 9898 9899]\n",
      " [9900 9901 9902 ... 9997 9998 9999]]\n"
     ]
    }
   ],
   "source": [
    "print(np.arange(10000).reshape(100, 100))"
   ]
  },
  {
   "cell_type": "markdown",
   "id": "0203008b-9482-4c1e-b908-9c5b19399dc1",
   "metadata": {},
   "source": [
    "To disable this behaviour and force NumPy to print the entire array, you can change the printing options using set_printoptions."
   ]
  },
  {
   "cell_type": "code",
   "execution_count": 46,
   "id": "f2147648-dd16-4f98-8398-d6c6fbb495bd",
   "metadata": {},
   "outputs": [],
   "source": [
    "import sys\n",
    "np.set_printoptions(threshold=sys.maxsize)  # sys module should be imported"
   ]
  },
  {
   "cell_type": "markdown",
   "id": "938762c4-2efc-431d-b4b9-870cf19e8ce0",
   "metadata": {},
   "source": [
    "## Basic Operations\n",
    "Arithmetic operators on arrays apply elementwise. A new array is created and filled with the result."
   ]
  },
  {
   "cell_type": "code",
   "execution_count": 47,
   "id": "604569f5-e518-4681-8077-12a255aee833",
   "metadata": {},
   "outputs": [
    {
     "data": {
      "text/plain": [
       "array([0, 1, 2, 3])"
      ]
     },
     "execution_count": 47,
     "metadata": {},
     "output_type": "execute_result"
    }
   ],
   "source": [
    "a = np.array([20, 30, 40, 50])\n",
    "b = np.arange(4)\n",
    "b"
   ]
  },
  {
   "cell_type": "code",
   "execution_count": 48,
   "id": "0e9afdc2-8741-4d81-8c5f-7ecd87c55d9e",
   "metadata": {},
   "outputs": [
    {
     "data": {
      "text/plain": [
       "array([20, 29, 38, 47])"
      ]
     },
     "execution_count": 48,
     "metadata": {},
     "output_type": "execute_result"
    }
   ],
   "source": [
    "c = a - b\n",
    "c"
   ]
  },
  {
   "cell_type": "code",
   "execution_count": 49,
   "id": "8519e3ff-99e2-449f-8de9-1d17cc7ec7d0",
   "metadata": {},
   "outputs": [
    {
     "data": {
      "text/plain": [
       "array([0, 1, 4, 9])"
      ]
     },
     "execution_count": 49,
     "metadata": {},
     "output_type": "execute_result"
    }
   ],
   "source": [
    "b**2"
   ]
  },
  {
   "cell_type": "code",
   "execution_count": 50,
   "id": "bebe4c01-9437-4eb5-97bb-425f47a0cb64",
   "metadata": {},
   "outputs": [
    {
     "data": {
      "text/plain": [
       "array([ 9.12945251, -9.88031624,  7.4511316 , -2.62374854])"
      ]
     },
     "execution_count": 50,
     "metadata": {},
     "output_type": "execute_result"
    }
   ],
   "source": [
    "10 * np.sin(a)"
   ]
  },
  {
   "cell_type": "code",
   "execution_count": 51,
   "id": "d859b24a-1430-4bfd-a76c-c0fb8b2b583b",
   "metadata": {},
   "outputs": [
    {
     "data": {
      "text/plain": [
       "array([ True,  True, False, False])"
      ]
     },
     "execution_count": 51,
     "metadata": {},
     "output_type": "execute_result"
    }
   ],
   "source": [
    "a < 35"
   ]
  },
  {
   "cell_type": "markdown",
   "id": "84503c97-1aba-4082-a8a0-7a8ccf14b9fd",
   "metadata": {},
   "source": [
    "Unlike in many matrix languages, the product operator * operates elementwise in NumPy arrays. The matrix product can be performed using the @ operator (in python >=3.5) or the dot function or method:"
   ]
  },
  {
   "cell_type": "code",
   "execution_count": 52,
   "id": "1d896ad5-b7b6-42ff-ad0c-94f1bd4e7967",
   "metadata": {},
   "outputs": [
    {
     "data": {
      "text/plain": [
       "array([[2, 0],\n",
       "       [0, 4]])"
      ]
     },
     "execution_count": 52,
     "metadata": {},
     "output_type": "execute_result"
    }
   ],
   "source": [
    "A = np.array([[1, 1],\n",
    "              [0, 1]])\n",
    "B = np.array([[2, 0],\n",
    "              [3, 4]])\n",
    "A * B     # elementwise product"
   ]
  },
  {
   "cell_type": "code",
   "execution_count": 53,
   "id": "89c65b84-9686-46ba-83e3-0d6108ac0ff7",
   "metadata": {},
   "outputs": [
    {
     "data": {
      "text/plain": [
       "array([[5, 4],\n",
       "       [3, 4]])"
      ]
     },
     "execution_count": 53,
     "metadata": {},
     "output_type": "execute_result"
    }
   ],
   "source": [
    "A @ B     # matrix product"
   ]
  },
  {
   "cell_type": "code",
   "execution_count": 54,
   "id": "acc9a0d9-ad33-4b28-9953-d062a40a66e2",
   "metadata": {},
   "outputs": [
    {
     "data": {
      "text/plain": [
       "array([[5, 4],\n",
       "       [3, 4]])"
      ]
     },
     "execution_count": 54,
     "metadata": {},
     "output_type": "execute_result"
    }
   ],
   "source": [
    "A.dot(B)  # another matrix product"
   ]
  },
  {
   "cell_type": "markdown",
   "id": "8196871a-67de-4e2c-adfb-7f9e0c3ab631",
   "metadata": {},
   "source": [
    "Some operations, such as += and *=, act in place to modify an existing array rather than create a new one."
   ]
  },
  {
   "cell_type": "code",
   "execution_count": 55,
   "id": "736de646-c7e4-48c3-9524-0d72dd769914",
   "metadata": {},
   "outputs": [
    {
     "data": {
      "text/plain": [
       "array([[3, 3, 3],\n",
       "       [3, 3, 3]])"
      ]
     },
     "execution_count": 55,
     "metadata": {},
     "output_type": "execute_result"
    }
   ],
   "source": [
    "rg = np.random.default_rng(1)  # create instance of default random number generator\n",
    "a = np.ones((2, 3), dtype=int)\n",
    "b = rg.random((2, 3))\n",
    "a *= 3\n",
    "a"
   ]
  },
  {
   "cell_type": "code",
   "execution_count": 56,
   "id": "2614023d-db0a-45c3-8de3-e7d8762ff4e8",
   "metadata": {},
   "outputs": [
    {
     "data": {
      "text/plain": [
       "array([[3.51182162, 3.9504637 , 3.14415961],\n",
       "       [3.94864945, 3.31183145, 3.42332645]])"
      ]
     },
     "execution_count": 56,
     "metadata": {},
     "output_type": "execute_result"
    }
   ],
   "source": [
    "b += a\n",
    "b"
   ]
  },
  {
   "cell_type": "code",
   "execution_count": 57,
   "id": "bf0c67ab-b54a-4ff4-9c39-3c794e27122c",
   "metadata": {},
   "outputs": [
    {
     "ename": "UFuncTypeError",
     "evalue": "Cannot cast ufunc 'add' output from dtype('float64') to dtype('int32') with casting rule 'same_kind'",
     "output_type": "error",
     "traceback": [
      "\u001b[1;31m---------------------------------------------------------------------------\u001b[0m",
      "\u001b[1;31mUFuncTypeError\u001b[0m                            Traceback (most recent call last)",
      "Cell \u001b[1;32mIn[57], line 1\u001b[0m\n\u001b[1;32m----> 1\u001b[0m a \u001b[38;5;241m+\u001b[39m\u001b[38;5;241m=\u001b[39m b\n",
      "\u001b[1;31mUFuncTypeError\u001b[0m: Cannot cast ufunc 'add' output from dtype('float64') to dtype('int32') with casting rule 'same_kind'"
     ]
    }
   ],
   "source": [
    "a += b  # b is not automatically converted to integer type"
   ]
  },
  {
   "cell_type": "markdown",
   "id": "ef149f5d-1afd-43fa-ac03-e9f41b3066c9",
   "metadata": {},
   "source": [
    "When operating with arrays of different types, the type of the resulting array corresponds to the more general or precise one (a behavior known as upcasting)."
   ]
  },
  {
   "cell_type": "code",
   "execution_count": null,
   "id": "b787a33c-bcba-43c0-b9ac-a03fa52302ce",
   "metadata": {},
   "outputs": [],
   "source": [
    "a = np.ones(3, dtype=np.int32)\n",
    "b = np.linspace(0, pi, 3)\n",
    "b.dtype.name"
   ]
  },
  {
   "cell_type": "code",
   "execution_count": null,
   "id": "852aa42c-4db9-4fe4-b4d7-4d79036d51b2",
   "metadata": {},
   "outputs": [],
   "source": [
    "c = a + b\n",
    "c"
   ]
  },
  {
   "cell_type": "code",
   "execution_count": null,
   "id": "40477c6d-61b5-4b9b-856a-cc31f3b0e196",
   "metadata": {},
   "outputs": [],
   "source": [
    "c.dtype.name"
   ]
  },
  {
   "cell_type": "code",
   "execution_count": null,
   "id": "55f0a517-c8e7-4e9d-925b-6bbc6e558ef4",
   "metadata": {},
   "outputs": [],
   "source": [
    "d = np.exp(c * 1j)\n",
    "d"
   ]
  },
  {
   "cell_type": "code",
   "execution_count": null,
   "id": "881a725c-9eaf-4dec-b391-550bb241678c",
   "metadata": {},
   "outputs": [],
   "source": [
    "d.dtype.name"
   ]
  },
  {
   "cell_type": "markdown",
   "id": "9162804b-3b65-4379-ad1a-db636653383b",
   "metadata": {},
   "source": [
    "Many unary operations, such as computing the sum of all the elements in the array, are implemented as methods of the ndarray class."
   ]
  },
  {
   "cell_type": "code",
   "execution_count": null,
   "id": "cf35f8a5-7c25-44f6-93bb-8a7e0ff566a3",
   "metadata": {},
   "outputs": [],
   "source": [
    "a = rg.random((2, 3))\n",
    "a"
   ]
  },
  {
   "cell_type": "code",
   "execution_count": null,
   "id": "bf940a47-d559-4e87-aa39-06d7660397b4",
   "metadata": {},
   "outputs": [],
   "source": [
    "a.sum()"
   ]
  },
  {
   "cell_type": "code",
   "execution_count": null,
   "id": "b8a28484-dcf1-4c75-9f76-20d64ad00d0d",
   "metadata": {},
   "outputs": [],
   "source": [
    "a.min()"
   ]
  },
  {
   "cell_type": "code",
   "execution_count": null,
   "id": "f5fa07d5-2dd4-4add-ab90-63fd67b33e46",
   "metadata": {},
   "outputs": [],
   "source": [
    "a.max()"
   ]
  },
  {
   "cell_type": "markdown",
   "id": "92333d6e-da03-4f9e-a296-870bc138c1ef",
   "metadata": {},
   "source": [
    "By default, these operations apply to the array as though it were a list of numbers, regardless of its shape. However, by specifying the axis parameter you can apply an operation along the specified axis of an array:"
   ]
  },
  {
   "cell_type": "code",
   "execution_count": null,
   "id": "26e98585-48b2-40c6-8a00-2a5a01138d4a",
   "metadata": {},
   "outputs": [],
   "source": [
    "b = np.arange(12).reshape(3, 4)\n",
    "b"
   ]
  },
  {
   "cell_type": "code",
   "execution_count": null,
   "id": "12dcc4f4-8ba8-4ad2-8c8e-b19f9a9dc8dd",
   "metadata": {},
   "outputs": [],
   "source": [
    "b.sum(axis=0)     # sum of each column"
   ]
  },
  {
   "cell_type": "code",
   "execution_count": null,
   "id": "9b904f3f-aabe-4aa9-8ba4-d8abf27e4ac8",
   "metadata": {},
   "outputs": [],
   "source": [
    "b.min(axis=1)     # min of each row"
   ]
  },
  {
   "cell_type": "code",
   "execution_count": null,
   "id": "8a1a8527-07c8-46f4-9199-92cb3a0875dc",
   "metadata": {},
   "outputs": [],
   "source": [
    "b.cumsum(axis=1)  # cumulative sum along each row"
   ]
  },
  {
   "cell_type": "markdown",
   "id": "5e1b80bf-a099-472e-8d02-7877c3ca66b2",
   "metadata": {},
   "source": [
    "## Universal Functions\n",
    "NumPy provides familiar mathematical functions such as sin, cos, and exp. In NumPy, these are called “universal functions” (ufunc). Within NumPy, these functions operate elementwise on an array, producing an array as output."
   ]
  },
  {
   "cell_type": "code",
   "execution_count": null,
   "id": "7f1834af-246d-46ab-9671-74fdfbaa132f",
   "metadata": {},
   "outputs": [],
   "source": [
    "B = np.arange(3)\n",
    "B"
   ]
  },
  {
   "cell_type": "code",
   "execution_count": null,
   "id": "513ba5cf-1d6c-4b63-98de-f7cdf3d670d8",
   "metadata": {},
   "outputs": [],
   "source": [
    "np.exp(B)"
   ]
  },
  {
   "cell_type": "code",
   "execution_count": null,
   "id": "1bd5b97e-6dd5-49be-b0ff-a1bc76aa8984",
   "metadata": {},
   "outputs": [],
   "source": [
    "np.sqrt(B)"
   ]
  },
  {
   "cell_type": "code",
   "execution_count": null,
   "id": "dca5ce72-39b8-4035-977f-1dc2779adec8",
   "metadata": {},
   "outputs": [],
   "source": [
    "C = np.array([2., -1., 4.])\n",
    "np.add(B, C)"
   ]
  },
  {
   "cell_type": "markdown",
   "id": "24a1a6d1-ec70-458e-947d-d373b01bc360",
   "metadata": {},
   "source": [
    "## Indexing, Slicing and Iterating\n",
    "One-dimensional arrays can be indexed, sliced and iterated over, much like lists and other Python sequences."
   ]
  },
  {
   "cell_type": "code",
   "execution_count": null,
   "id": "9d0ae793-75f7-47fc-9212-480c632e1193",
   "metadata": {},
   "outputs": [],
   "source": [
    "a = np.arange(10)**3\n",
    "a"
   ]
  },
  {
   "cell_type": "code",
   "execution_count": null,
   "id": "edb993aa-59bb-46fc-a280-135311dd6026",
   "metadata": {},
   "outputs": [],
   "source": [
    "a[2]"
   ]
  },
  {
   "cell_type": "code",
   "execution_count": null,
   "id": "50a681a6-e08e-40ad-a589-40b50b5db630",
   "metadata": {},
   "outputs": [],
   "source": [
    "a[2:5]"
   ]
  },
  {
   "cell_type": "code",
   "execution_count": null,
   "id": "37a1a81c-84cd-4ce9-ab91-fc62f98fb6f3",
   "metadata": {},
   "outputs": [],
   "source": [
    "# equivalent to a[0:6:2] = 1000;\n",
    "# from start to position 6, exclusive, set every 2nd element to 1000\n",
    "a[:6:2] = 1000\n",
    "a"
   ]
  },
  {
   "cell_type": "code",
   "execution_count": null,
   "id": "71adf762-a608-408f-b8ce-9f12dac3c9da",
   "metadata": {},
   "outputs": [],
   "source": [
    "a[::-1]  # reversed a"
   ]
  },
  {
   "cell_type": "code",
   "execution_count": null,
   "id": "b11fad8f-4e04-4663-ae4a-16de25f73975",
   "metadata": {},
   "outputs": [],
   "source": [
    "for i in a:\n",
    "    print(i**(1 / 3.))"
   ]
  },
  {
   "cell_type": "markdown",
   "id": "7ec5f5e1-3cc7-4cfe-a52a-a2585924e4fc",
   "metadata": {},
   "source": [
    "Multidimensional arrays can have one index per axis. These indices are given in a tuple separated by commas:"
   ]
  },
  {
   "cell_type": "code",
   "execution_count": null,
   "id": "46cb6126-3135-48ed-a5d8-47b0ed785d9b",
   "metadata": {},
   "outputs": [],
   "source": [
    "def f(x, y):\n",
    "    return 10 * x + y\n",
    "\n",
    "b = np.fromfunction(f, (5, 4), dtype=int)\n",
    "b"
   ]
  },
  {
   "cell_type": "code",
   "execution_count": null,
   "id": "c14d56d4-352e-4405-b1e5-0d00df573e7f",
   "metadata": {},
   "outputs": [],
   "source": [
    "b[2, 3]"
   ]
  },
  {
   "cell_type": "code",
   "execution_count": null,
   "id": "19d0c668-49e6-4af5-965c-ffd9a2fdc808",
   "metadata": {},
   "outputs": [],
   "source": [
    "b[0:5, 1]  # each row in the second column of b"
   ]
  },
  {
   "cell_type": "code",
   "execution_count": null,
   "id": "48f70ed9-a49c-4af7-9f76-40198ad90b14",
   "metadata": {},
   "outputs": [],
   "source": [
    "b[:, 1]    # equivalent to the previous example"
   ]
  },
  {
   "cell_type": "code",
   "execution_count": null,
   "id": "d1a8bf48-e5f0-4436-a003-c06ddd1443e8",
   "metadata": {},
   "outputs": [],
   "source": [
    "b[1:3, :]  # each column in the second and third row of b"
   ]
  },
  {
   "cell_type": "markdown",
   "id": "810b3d3d-4663-4e9d-b585-e8a5f6bd926d",
   "metadata": {},
   "source": [
    "When fewer indices are provided than the number of axes, the missing indices are considered complete slices:"
   ]
  },
  {
   "cell_type": "code",
   "execution_count": null,
   "id": "b6934a92-2eaf-41e2-908e-bc2eb9d10936",
   "metadata": {},
   "outputs": [],
   "source": [
    "b[-1]   # the last row. Equivalent to b[-1, :]"
   ]
  },
  {
   "cell_type": "markdown",
   "id": "f086c69c-a71f-44bf-999b-f4dc0d968a70",
   "metadata": {},
   "source": [
    "The expression within brackets in b[i] is treated as an i followed by as many instances of : as needed to represent the remaining axes. NumPy also allows you to write this using dots as b[i, ...].\n",
    "\n",
    "The dots (...) represent as many colons as needed to produce a complete indexing tuple. For example, if x is an array with 5 axes, then"
   ]
  },
  {
   "cell_type": "markdown",
   "id": "42782468-38db-4500-ab87-c3a6ef01f311",
   "metadata": {},
   "source": [
    "* x[1, 2, ...] is equivalent to x[1, 2, :, :, :],\n",
    "* x[..., 3] to x[:, :, :, :, 3] and\n",
    "* x[4, ..., 5, :] to x[4, :, :, 5, :]."
   ]
  },
  {
   "cell_type": "code",
   "execution_count": null,
   "id": "083a70c1-3ded-4098-867a-584c6c3fa9e2",
   "metadata": {},
   "outputs": [],
   "source": [
    "c = np.array([[[  0,  1,  2],  # a 3D array (two stacked 2D arrays)\n",
    "               [ 10, 12, 13]],\n",
    "              [[100, 101, 102],\n",
    "               [110, 112, 113]]])\n",
    "c.shape"
   ]
  },
  {
   "cell_type": "code",
   "execution_count": null,
   "id": "523018f1-2e41-433e-adbe-fba3b023af5a",
   "metadata": {},
   "outputs": [],
   "source": [
    "c[1, ...]  # same as c[1, :, :] or c[1]"
   ]
  },
  {
   "cell_type": "code",
   "execution_count": null,
   "id": "3e02e497-345e-486f-bb30-d491bebc8a1a",
   "metadata": {},
   "outputs": [],
   "source": [
    "c[..., 2]  # same as c[:, :, 2]"
   ]
  },
  {
   "cell_type": "markdown",
   "id": "6ae5ce6e-4e45-4d49-8ffe-11d1ecae1368",
   "metadata": {},
   "source": [
    "Iterating over multidimensional arrays is done with respect to the first axis:"
   ]
  },
  {
   "cell_type": "code",
   "execution_count": 60,
   "id": "9c62fa75-755c-4374-afdb-6cbf773ab709",
   "metadata": {},
   "outputs": [
    {
     "name": "stdout",
     "output_type": "stream",
     "text": [
      "[3.51182162 3.9504637  3.14415961]\n",
      "[3.94864945 3.31183145 3.42332645]\n"
     ]
    }
   ],
   "source": [
    "for row in b:\n",
    "    print(row)"
   ]
  },
  {
   "cell_type": "markdown",
   "id": "e6e6304d-db2a-45d5-ab58-29f798dc4f9b",
   "metadata": {},
   "source": [
    "However, if one wants to perform an operation on each element in the array, one can use the flat attribute which is an iterator over all the elements of the array:"
   ]
  },
  {
   "cell_type": "code",
   "execution_count": 61,
   "id": "13e48c98-5222-48ba-91a1-b3ecfcff1b54",
   "metadata": {},
   "outputs": [
    {
     "name": "stdout",
     "output_type": "stream",
     "text": [
      "3.5118216247002567\n",
      "3.950463696325935\n",
      "3.144159612719634\n",
      "3.9486494471372438\n",
      "3.3118314520104857\n",
      "3.423326448972576\n"
     ]
    }
   ],
   "source": [
    "for element in b.flat:\n",
    "    print(element)"
   ]
  },
  {
   "cell_type": "markdown",
   "id": "c8948def-a141-4bbf-a7f9-07f89d173a88",
   "metadata": {},
   "source": [
    "# Shape Manipulation\n",
    "\n",
    "## Changing the shape of an array\n",
    "An array has a shape given by the number of elements along each axis:"
   ]
  },
  {
   "cell_type": "code",
   "execution_count": null,
   "id": "811734a3-b896-4c64-b886-c75a36e52c72",
   "metadata": {},
   "outputs": [],
   "source": [
    "a = np.floor(10 * rg.random((3, 4)))\n",
    "a"
   ]
  },
  {
   "cell_type": "code",
   "execution_count": null,
   "id": "ddb8f526-f545-4614-a8b5-1ff025df0535",
   "metadata": {},
   "outputs": [],
   "source": [
    "a.shape"
   ]
  },
  {
   "cell_type": "markdown",
   "id": "773722d6-614c-4019-8ef6-e2cf425d2a53",
   "metadata": {},
   "source": [
    "The shape of an array can be changed with various commands. Note that the following three commands all return a modified array, but do not change the original array:"
   ]
  },
  {
   "cell_type": "code",
   "execution_count": null,
   "id": "99ed51af-1981-4911-a217-48de4d5df1ca",
   "metadata": {},
   "outputs": [],
   "source": [
    "a.ravel()  # returns the array, flattened"
   ]
  },
  {
   "cell_type": "code",
   "execution_count": null,
   "id": "4197eb64-0a1d-4120-9266-447997db6cad",
   "metadata": {},
   "outputs": [],
   "source": [
    "a.reshape(6, 2)  # returns the array with a modified shape"
   ]
  },
  {
   "cell_type": "code",
   "execution_count": null,
   "id": "9ef83db1-4b32-4e44-8389-232634a1d660",
   "metadata": {},
   "outputs": [],
   "source": [
    "a.T  # returns the array, transposed"
   ]
  },
  {
   "cell_type": "code",
   "execution_count": null,
   "id": "32f71999-67c4-467c-86a1-4cb360955c31",
   "metadata": {},
   "outputs": [],
   "source": [
    "a.T.shape"
   ]
  },
  {
   "cell_type": "code",
   "execution_count": null,
   "id": "dab98a9f-9889-4e5a-bb57-874c479d9db9",
   "metadata": {},
   "outputs": [],
   "source": [
    "a.shape"
   ]
  },
  {
   "cell_type": "markdown",
   "id": "d7fe7fe2-0f48-45d8-b49a-efc2f7363255",
   "metadata": {},
   "source": [
    "The order of the elements in the array resulting from ravel is normally “C-style”, that is, the rightmost index “changes the fastest”, so the element after a[0, 0] is a[0, 1]. If the array is reshaped to some other shape, again the array is treated as “C-style”. NumPy normally creates arrays stored in this order, so ravel will usually not need to copy its argument, but if the array was made by taking slices of another array or created with unusual options, it may need to be copied. The functions ravel and reshape can also be instructed, using an optional argument, to use FORTRAN-style arrays, in which the leftmost index changes the fastest.\n",
    "\n",
    "The reshape function returns its argument with a modified shape, whereas the ndarray.resize method modifies the array itself:"
   ]
  },
  {
   "cell_type": "code",
   "execution_count": null,
   "id": "902fcdaf-4f57-4201-9cd5-2643f12985a4",
   "metadata": {},
   "outputs": [],
   "source": [
    "a"
   ]
  },
  {
   "cell_type": "code",
   "execution_count": null,
   "id": "171e292f-f667-4760-997b-785d8535d725",
   "metadata": {},
   "outputs": [],
   "source": [
    "a.resize((2, 6))\n",
    "a"
   ]
  },
  {
   "cell_type": "markdown",
   "id": "5de2c6c3-078f-477d-9108-c48c2af0982a",
   "metadata": {},
   "source": [
    "If a dimension is given as -1 in a reshaping operation, the other dimensions are automatically calculated:"
   ]
  },
  {
   "cell_type": "code",
   "execution_count": null,
   "id": "3426d7f0-28bd-4f92-ac1d-742c04aa9dc9",
   "metadata": {},
   "outputs": [],
   "source": [
    "a.reshape(3, -1)"
   ]
  },
  {
   "cell_type": "markdown",
   "id": "d3b37d7b-c4dc-4764-88f2-3045e94fa406",
   "metadata": {},
   "source": [
    "## Stacking together different arrays\n",
    "Several arrays can be stacked together along different axes:"
   ]
  },
  {
   "cell_type": "code",
   "execution_count": null,
   "id": "403a098b-709c-40eb-bb9e-3459c38ec7d4",
   "metadata": {},
   "outputs": [],
   "source": [
    "a = np.floor(10 * rg.random((2, 2)))\n",
    "a"
   ]
  },
  {
   "cell_type": "code",
   "execution_count": null,
   "id": "7f0d342c-c95b-4502-be54-f5a5f57cbe82",
   "metadata": {},
   "outputs": [],
   "source": [
    "b = np.floor(10 * rg.random((2, 2)))\n",
    "b"
   ]
  },
  {
   "cell_type": "code",
   "execution_count": null,
   "id": "8f008dfb-bbb4-418b-ac2c-a2960490e852",
   "metadata": {},
   "outputs": [],
   "source": [
    "np.vstack((a, b))"
   ]
  },
  {
   "cell_type": "code",
   "execution_count": null,
   "id": "78ee4c1a-071e-4ab5-a2b3-b11ebe071899",
   "metadata": {},
   "outputs": [],
   "source": [
    "np.hstack((a, b))"
   ]
  },
  {
   "cell_type": "markdown",
   "id": "386bd466-b3b8-4636-867a-d5964bc70e16",
   "metadata": {},
   "source": [
    "The function column_stack stacks 1D arrays as columns into a 2D array. It is equivalent to hstack only for 2D arrays:"
   ]
  },
  {
   "cell_type": "code",
   "execution_count": null,
   "id": "6514174b-6c7f-4496-bf88-8e62bf6a3b29",
   "metadata": {},
   "outputs": [],
   "source": [
    "from numpy import newaxis\n",
    "np.column_stack((a, b))  # with 2D arrays"
   ]
  },
  {
   "cell_type": "code",
   "execution_count": null,
   "id": "6e7ab0a0-747c-4bb5-ad55-f83aec8cdd1f",
   "metadata": {},
   "outputs": [],
   "source": [
    "a = np.array([4., 2.])\n",
    "b = np.array([3., 8.])\n",
    "np.column_stack((a, b))  # returns a 2D array"
   ]
  },
  {
   "cell_type": "code",
   "execution_count": null,
   "id": "be83b220-7d79-44c5-96ea-1b18890e4fe4",
   "metadata": {},
   "outputs": [],
   "source": [
    "np.hstack((a, b))        # the result is different"
   ]
  },
  {
   "cell_type": "code",
   "execution_count": null,
   "id": "669fcb8c-2d1f-4111-b25f-5aab6c99c7fe",
   "metadata": {},
   "outputs": [],
   "source": [
    "a[:, newaxis]  # view `a` as a 2D column vector"
   ]
  },
  {
   "cell_type": "code",
   "execution_count": null,
   "id": "679ef131-8786-45c7-a530-6ca51b958345",
   "metadata": {},
   "outputs": [],
   "source": [
    "np.column_stack((a[:, newaxis], b[:, newaxis]))"
   ]
  },
  {
   "cell_type": "code",
   "execution_count": null,
   "id": "1d8d9b41-2cb4-4c38-af73-88b026647620",
   "metadata": {},
   "outputs": [],
   "source": [
    "np.hstack((a[:, newaxis], b[:, newaxis]))  # the result is the same"
   ]
  },
  {
   "cell_type": "markdown",
   "id": "a5993163-8af0-42ca-84a6-9e73e8050acf",
   "metadata": {},
   "source": [
    "On the other hand, the function row_stack is equivalent to vstack for any input arrays. In fact, row_stack is an alias for vstack:"
   ]
  },
  {
   "cell_type": "code",
   "execution_count": null,
   "id": "c6ae2a03-4b75-453c-bb68-f398ed56fde2",
   "metadata": {},
   "outputs": [],
   "source": [
    "np.column_stack is np.hstack"
   ]
  },
  {
   "cell_type": "code",
   "execution_count": null,
   "id": "7622681e-62eb-4bb2-9a10-4c52e1421af6",
   "metadata": {},
   "outputs": [],
   "source": [
    "np.row_stack is np.vstack"
   ]
  },
  {
   "cell_type": "markdown",
   "id": "22683236-ce9a-472d-8798-614146dc03cc",
   "metadata": {},
   "source": [
    "In general, for arrays with more than two dimensions, hstack stacks along their second axes, vstack stacks along their first axes, and concatenate allows for an optional arguments giving the number of the axis along which the concatenation should happen.\n",
    "\n",
    "Note\n",
    "\n",
    "In complex cases, r_ and c_ are useful for creating arrays by stacking numbers along one axis. They allow the use of range literals :."
   ]
  },
  {
   "cell_type": "code",
   "execution_count": null,
   "id": "7ba2074a-3275-4659-a27d-396e6967fe32",
   "metadata": {},
   "outputs": [],
   "source": [
    "np.r_[1:4, 0, 4]"
   ]
  },
  {
   "cell_type": "markdown",
   "id": "82bbdc19-7518-4379-b923-affff6404762",
   "metadata": {},
   "source": [
    "When used with arrays as arguments, r_ and c_ are similar to vstack and hstack in their default behavior, but allow for an optional argument giving the number of the axis along which to concatenate."
   ]
  },
  {
   "cell_type": "markdown",
   "id": "4a57f5a4-452f-4b30-8fc4-583a2062ba55",
   "metadata": {},
   "source": [
    "## Splitting one array into several smaller ones\n",
    "Using hsplit, you can split an array along its horizontal axis, either by specifying the number of equally shaped arrays to return, or by specifying the columns after which the division should occur:"
   ]
  },
  {
   "cell_type": "code",
   "execution_count": null,
   "id": "f78c1bed-98a4-41f3-bcf2-0ee80186db91",
   "metadata": {},
   "outputs": [],
   "source": [
    "a = np.floor(10 * rg.random((2, 12)))\n",
    "a"
   ]
  },
  {
   "cell_type": "code",
   "execution_count": null,
   "id": "7b074a44-5571-4510-b1a1-b1ee3959aadd",
   "metadata": {},
   "outputs": [],
   "source": [
    "# Split `a` into 3\n",
    "np.hsplit(a, 3)"
   ]
  },
  {
   "cell_type": "code",
   "execution_count": null,
   "id": "a2470b66-22c5-4821-9d6a-93a744589bc1",
   "metadata": {},
   "outputs": [],
   "source": [
    "# Split `a` after the third and the fourth column\n",
    "np.hsplit(a, (3, 4))"
   ]
  },
  {
   "cell_type": "markdown",
   "id": "c284b9ee-ab58-4983-873a-a21fa9891f31",
   "metadata": {},
   "source": [
    "vsplit splits along the vertical axis, and array_split allows one to specify along which axis to split."
   ]
  },
  {
   "cell_type": "markdown",
   "id": "935549c1-eb6d-4457-8f3f-58f6654b4142",
   "metadata": {},
   "source": [
    "# Copies and Views\n",
    "When operating and manipulating arrays, their data is sometimes copied into a new array and sometimes not. This is often a source of confusion for beginners. There are three cases:"
   ]
  },
  {
   "cell_type": "markdown",
   "id": "0eb72ebc-2fbe-4657-98df-1e8990d31485",
   "metadata": {},
   "source": [
    "## No Copy at All\n",
    "Simple assignments make no copy of objects or their data."
   ]
  },
  {
   "cell_type": "code",
   "execution_count": null,
   "id": "461d7535-90ba-4cc8-bbbb-ad2e4fb80ff8",
   "metadata": {},
   "outputs": [],
   "source": [
    "a = np.array([[ 0,  1,  2,  3],\n",
    "              [ 4,  5,  6,  7],\n",
    "              [ 8,  9, 10, 11]])\n",
    "b = a            # no new object is created\n",
    "b is a           # a and b are two names for the same ndarray object"
   ]
  },
  {
   "cell_type": "markdown",
   "id": "6499cae1-98b5-47d6-8cfb-bbb9bb9669dd",
   "metadata": {},
   "source": [
    "Python passes mutable objects as references, so function calls make no copy."
   ]
  },
  {
   "cell_type": "code",
   "execution_count": null,
   "id": "48b29679-7c37-4bfb-bfbd-e83e2b21b2b7",
   "metadata": {},
   "outputs": [],
   "source": [
    "def f(x):\n",
    "    print(id(x))"
   ]
  },
  {
   "cell_type": "code",
   "execution_count": null,
   "id": "e050e064-4611-4d7e-81d2-6a856947f751",
   "metadata": {},
   "outputs": [],
   "source": [
    "id(a)  # id is a unique identifier of an object "
   ]
  },
  {
   "cell_type": "code",
   "execution_count": null,
   "id": "e89b655c-342a-401c-a8fb-5b4e1c5ab9ac",
   "metadata": {},
   "outputs": [],
   "source": [
    "f(a)"
   ]
  },
  {
   "cell_type": "markdown",
   "id": "85b41c2f-8819-4e47-960e-452d75b03808",
   "metadata": {},
   "source": [
    "## View or Shallow Copy\n",
    "Different array objects can share the same data. The view method creates a new array object that looks at the same data."
   ]
  },
  {
   "cell_type": "code",
   "execution_count": null,
   "id": "4c3593e7-3f1d-4c0b-a53c-3e58c79ac3c9",
   "metadata": {},
   "outputs": [],
   "source": [
    "c = a.view()\n",
    "c is a"
   ]
  },
  {
   "cell_type": "code",
   "execution_count": null,
   "id": "acfff294-5ada-4882-8286-9dc73b491dd1",
   "metadata": {},
   "outputs": [],
   "source": [
    "c.base is a            # c is a view of the data owned by a"
   ]
  },
  {
   "cell_type": "code",
   "execution_count": null,
   "id": "211e393f-7c88-49f8-b65c-e07ff1fdf937",
   "metadata": {},
   "outputs": [],
   "source": [
    "c.flags.owndata"
   ]
  },
  {
   "cell_type": "code",
   "execution_count": null,
   "id": "7004d494-6009-4993-aafd-e61d41de0857",
   "metadata": {},
   "outputs": [],
   "source": [
    "c = c.reshape((2, 6))  # a's shape doesn't change\n",
    "a.shape"
   ]
  },
  {
   "cell_type": "code",
   "execution_count": null,
   "id": "9479c2a3-37dc-4360-841a-d292ffd470b1",
   "metadata": {},
   "outputs": [],
   "source": [
    "c[0, 4] = 1234         # a's data changes\n",
    "a"
   ]
  },
  {
   "cell_type": "markdown",
   "id": "e8f86c02-7608-41b6-89e0-cd903b256081",
   "metadata": {},
   "source": [
    "Slicing an array returns a view of it:"
   ]
  },
  {
   "cell_type": "code",
   "execution_count": null,
   "id": "d8839888-ed39-4819-891f-5b6fbaf17424",
   "metadata": {},
   "outputs": [],
   "source": [
    "s = a[:, 1:3]\n",
    "s[:] = 10  # s[:] is a view of s. Note the difference between s = 10 and s[:] = 10\n",
    "a"
   ]
  },
  {
   "cell_type": "markdown",
   "id": "58874360-2772-46ce-b653-5e40ef6897fe",
   "metadata": {},
   "source": [
    "## Deep Copy\n",
    "The copy method makes a complete copy of the array and its data."
   ]
  },
  {
   "cell_type": "code",
   "execution_count": null,
   "id": "27518df4-e121-40dd-8042-4dd36590832d",
   "metadata": {},
   "outputs": [],
   "source": [
    "d = a.copy()  # a new array object with new data is created\n",
    "d is a"
   ]
  },
  {
   "cell_type": "code",
   "execution_count": null,
   "id": "e69ff1e3-0264-4079-b6c0-46ba62c3f9ee",
   "metadata": {},
   "outputs": [],
   "source": [
    "d.base is a  # d doesn't share anything with a"
   ]
  },
  {
   "cell_type": "code",
   "execution_count": null,
   "id": "7c968b21-7b49-4da4-bfd9-15da87e5a6cf",
   "metadata": {},
   "outputs": [],
   "source": [
    "d[0, 0] = 9999\n",
    "a"
   ]
  },
  {
   "cell_type": "markdown",
   "id": "b75b995a-7cbc-42c8-8ce0-15e116c7dfc9",
   "metadata": {},
   "source": [
    "Sometimes copy should be called after slicing if the original array is not required anymore. For example, suppose a is a huge intermediate result and the final result b only contains a small fraction of a, a deep copy should be made when constructing b with slicing:"
   ]
  },
  {
   "cell_type": "code",
   "execution_count": null,
   "id": "e42f4f8e-c013-4871-bc62-1e264fef5338",
   "metadata": {},
   "outputs": [],
   "source": [
    "a = np.arange(int(1e8))\n",
    "b = a[:100].copy()\n",
    "del a  # the memory of ``a`` can be released."
   ]
  },
  {
   "cell_type": "markdown",
   "id": "3ee0cda2-40fc-4f7b-bccc-53c442c18bdc",
   "metadata": {},
   "source": [
    "If b = a[:100] is used instead, a is referenced by b and will persist in memory even if del a is executed."
   ]
  },
  {
   "cell_type": "markdown",
   "id": "a315684b-99b2-42c0-8319-b4c88eb42ffb",
   "metadata": {},
   "source": [
    "## Functions and Methods Overview\n",
    "Here is a list of some useful NumPy functions and methods names ordered in categories. See Routines for the full list."
   ]
  },
  {
   "cell_type": "markdown",
   "id": "e18a1155-31c3-4c26-b2a7-bc637219b136",
   "metadata": {},
   "source": [
    "https://numpy.org/doc/stable/user/quickstart.html#functions-and-methods-overview"
   ]
  },
  {
   "cell_type": "markdown",
   "id": "d13a48fc-e025-4f50-ab7b-cc3be4bceefe",
   "metadata": {},
   "source": [
    "# Less Basiccasting."
   ]
  },
  {
   "cell_type": "markdown",
   "id": "6ede835b-b96f-440e-8513-432a789c1cc0",
   "metadata": {},
   "source": [
    "## Broadcasting rules\n",
    "Broadcasting allows universal functions to deal in a meaningful way with inputs that do not have exactly the same shape.\n",
    "\n",
    "The first rule of broadcasting is that if all input arrays do not have the same number of dimensions, a “1” will be repeatedly prepended to the shapes of the smaller arrays until all the arrays have the same number of dimensions.\n",
    "\n",
    "The second rule of broadcasting ensures that arrays with a size of 1 along a particular dimension act as if they had the size of the array with the largest shape along that dimension. The value of the array element is assumed to be the same along that dimension for the “broadcast” array.\n",
    "\n",
    "After application of the broadcasting rules, the sizes of all arrays must match. More details can be found in https://numpy.org/doc/stable/user/basics.broadcasting.html#basics-broadcasting."
   ]
  },
  {
   "cell_type": "markdown",
   "id": "6f227d1c-ec7d-49aa-ba80-6a7a61ffda2d",
   "metadata": {},
   "source": [
    "# Broadcasting"
   ]
  },
  {
   "cell_type": "markdown",
   "id": "ba2a877d-8bfd-4e49-86c6-1467240e3479",
   "metadata": {},
   "source": [
    "The term broadcasting describes how NumPy treats arrays with different shapes during arithmetic operations. Subject to certain constraints, the smaller array is “broadcast” across the larger array so that they have compatible shapes. Broadcasting provides a means of vectorizing array operations so that looping occurs in C instead of Python. It does this without making needless copies of data and usually leads to efficient algorithm implementations. There are, however, cases where broadcasting is a bad idea because it leads to inefficient use of memory that slows computation.\n",
    "\n",
    "NumPy operations are usually done on pairs of arrays on an element-by-element basis. In the simplest case, the two arrays must have exactly the same shape, as in the following example:"
   ]
  },
  {
   "cell_type": "code",
   "execution_count": 62,
   "id": "9aa11f14-1a25-4d69-ac7c-4955013bc424",
   "metadata": {},
   "outputs": [
    {
     "data": {
      "text/plain": [
       "array([2., 4., 6.])"
      ]
     },
     "execution_count": 62,
     "metadata": {},
     "output_type": "execute_result"
    }
   ],
   "source": [
    "a = np.array([1.0, 2.0, 3.0])\n",
    "b = np.array([2.0, 2.0, 2.0])\n",
    "a * b"
   ]
  },
  {
   "cell_type": "markdown",
   "id": "85f0d9fb-38b4-4a5b-8f37-02ed4a3d5f87",
   "metadata": {},
   "source": [
    "NumPy’s broadcasting rule relaxes this constraint when the arrays’ shapes meet certain constraints. The simplest broadcasting example occurs when an array and a scalar value are combined in an operation:"
   ]
  },
  {
   "cell_type": "code",
   "execution_count": 63,
   "id": "3fdab95b-c0fa-445c-914f-7718766fabce",
   "metadata": {},
   "outputs": [
    {
     "data": {
      "text/plain": [
       "array([2., 4., 6.])"
      ]
     },
     "execution_count": 63,
     "metadata": {},
     "output_type": "execute_result"
    }
   ],
   "source": [
    "a = np.array([1.0, 2.0, 3.0])\n",
    "b = 2.0\n",
    "a * b"
   ]
  },
  {
   "cell_type": "markdown",
   "id": "1b9b74a6-c8ba-4f0e-9873-f39ecb5c9ecd",
   "metadata": {},
   "source": [
    "The result is equivalent to the previous example where b was an array. We can think of the scalar b being stretched during the arithmetic operation into an array with the same shape as a. The new elements in b, as shown in Figure 1, are simply copies of the original scalar. The stretching analogy is only conceptual. NumPy is smart enough to use the original scalar value without actually making copies so that broadcasting operations are as memory and computationally efficient as possible."
   ]
  },
  {
   "attachments": {
    "d928ba9d-6731-48ef-be4b-24913d602c21.png": {
     "image/png": "[encoded data removed]"
    }
   },
   "cell_type": "markdown",
   "id": "0b0fe348-d2eb-45ce-ae1d-e571018a4828",
   "metadata": {},
   "source": [
    "![image.png](attachment:d928ba9d-6731-48ef-be4b-24913d602c21.png)"
   ]
  },
  {
   "cell_type": "markdown",
   "id": "5bb446c6-32ba-44f7-b84e-f60f87a07cea",
   "metadata": {},
   "source": [
    "In the simplest example of broadcasting, the scalar b is stretched to become an array of same shape as a so the shapes are compatible for element-by-element multiplication."
   ]
  },
  {
   "cell_type": "markdown",
   "id": "e3b54c09-cd12-4b82-9fe6-3d2532e3ce77",
   "metadata": {},
   "source": [
    "The code in the second example is more efficient than that in the first because broadcasting moves less memory around during the multiplication (b is a scalar rather than an array)."
   ]
  },
  {
   "cell_type": "markdown",
   "id": "58f57f4a-4693-4f4b-aeb9-8cea8b4760c9",
   "metadata": {},
   "source": [
    "## General Broadcasting Rules\n",
    "When operating on two arrays, NumPy compares their shapes element-wise. It starts with the trailing (i.e. rightmost) dimension and works its way left. Two dimensions are compatible when"
   ]
  },
  {
   "cell_type": "markdown",
   "id": "51547555-f71b-4942-aad0-5561f27b3c96",
   "metadata": {},
   "source": [
    "1. they are equal, or\n",
    "2. one of them is 1."
   ]
  },
  {
   "cell_type": "markdown",
   "id": "30683bce-54d1-4e0d-b096-72f52df91948",
   "metadata": {},
   "source": [
    "If these conditions are not met, a ValueError: operands could not be broadcast together exception is thrown, indicating that the arrays have incompatible shapes.\n",
    "\n",
    "Input arrays do not need to have the same number of dimensions. The resulting array will have the same number of dimensions as the input array with the greatest number of dimensions, where the size of each dimension is the largest size of the corresponding dimension among the input arrays. Note that missing dimensions are assumed to have size one.\n",
    "\n",
    "For example, if you have a 256x256x3 array of RGB values, and you want to scale each color in the image by a different value, you can multiply the image by a one-dimensional array with 3 values. Lining up the sizes of the trailing axes of these arrays according to the broadcast rules, shows that they are compatible:"
   ]
  },
  {
   "cell_type": "code",
   "execution_count": null,
   "id": "2749e9f7-fd3e-48fb-ab6c-6e3ae246ab28",
   "metadata": {},
   "outputs": [],
   "source": [
    "Image  (3d array): 256 x 256 x 3\n",
    "Scale  (1d array):             3\n",
    "Result (3d array): 256 x 256 x 3"
   ]
  },
  {
   "cell_type": "markdown",
   "id": "2d1460c6-8ac5-4852-8097-f499beb1d215",
   "metadata": {},
   "source": [
    "When either of the dimensions compared is one, the other is used. In other words, dimensions with size 1 are stretched or “copied” to match the other.\n",
    "\n",
    "In the following example, both the A and B arrays have axes with length one that are expanded to a larger size during the broadcast operation:"
   ]
  },
  {
   "cell_type": "code",
   "execution_count": null,
   "id": "a07fe528-4188-415d-91f0-2221cd00bb01",
   "metadata": {},
   "outputs": [],
   "source": [
    "A      (4d array):  8 x 1 x 6 x 1\n",
    "B      (3d array):      7 x 1 x 5\n",
    "Result (4d array):  8 x 7 x 6 x 5"
   ]
  },
  {
   "cell_type": "markdown",
   "id": "73c3b01e-e045-4ae6-b597-6d5dcb151d2c",
   "metadata": {},
   "source": [
    "## Broadcastable arrays\n",
    "A set of arrays is called “broadcastable” to the same shape if the above rules produce a valid result.\n",
    "\n",
    "For example, if a.shape is (5,1), b.shape is (1,6), c.shape is (6,) and d.shape is () so that d is a scalar, then a, b, c, and d are all broadcastable to dimension (5,6); and"
   ]
  },
  {
   "cell_type": "markdown",
   "id": "e76768ed-d363-4088-afac-6a437192ce6d",
   "metadata": {},
   "source": [
    "* a acts like a (5,6) array where a[:,0] is broadcast to the other columns,\n",
    "* b acts like a (5,6) array where b[0,:] is broadcast to the other rows,\n",
    "* c acts like a (1,6) array and therefore like a (5,6) array where c[:] is broadcast to every row, and finally,\n",
    "* d acts like a (5,6) array where the single value is repeated."
   ]
  },
  {
   "cell_type": "markdown",
   "id": "c089947c-1f88-49d0-b0ea-b792d3a123a4",
   "metadata": {},
   "source": [
    "Here are some more examples:"
   ]
  },
  {
   "cell_type": "code",
   "execution_count": null,
   "id": "22eb117d-a14e-4085-96f7-3ed08f48d2b0",
   "metadata": {},
   "outputs": [],
   "source": [
    "A      (2d array):  5 x 4\n",
    "B      (1d array):      1\n",
    "Result (2d array):  5 x 4\n",
    "\n",
    "A      (2d array):  5 x 4\n",
    "B      (1d array):      4\n",
    "Result (2d array):  5 x 4\n",
    "\n",
    "A      (3d array):  15 x 3 x 5\n",
    "B      (3d array):  15 x 1 x 5\n",
    "Result (3d array):  15 x 3 x 5\n",
    "\n",
    "A      (3d array):  15 x 3 x 5\n",
    "B      (2d array):       3 x 5\n",
    "Result (3d array):  15 x 3 x 5\n",
    "\n",
    "A      (3d array):  15 x 3 x 5\n",
    "B      (2d array):       3 x 1\n",
    "Result (3d array):  15 x 3 x 5"
   ]
  },
  {
   "cell_type": "markdown",
   "id": "eebc8177-eee7-474d-b6b7-2e53d89f6bc8",
   "metadata": {},
   "source": [
    "Here are examples of shapes that do not broadcast:"
   ]
  },
  {
   "cell_type": "code",
   "execution_count": null,
   "id": "b16f384a-9674-4434-bd56-b8b6ecd32e55",
   "metadata": {},
   "outputs": [],
   "source": [
    "A      (1d array):  3\n",
    "B      (1d array):  4 # trailing dimensions do not match\n",
    "\n",
    "A      (2d array):      2 x 1\n",
    "B      (3d array):  8 x 4 x 3 # second from last dimensions mismatched"
   ]
  },
  {
   "cell_type": "markdown",
   "id": "558efd5d-09a6-4767-82fe-bf928b239003",
   "metadata": {},
   "source": [
    "An example of broadcasting when a 1-d array is added to a 2-d array:"
   ]
  },
  {
   "cell_type": "code",
   "execution_count": 64,
   "id": "2b147ade-52e9-4113-aefa-8f696abe02b1",
   "metadata": {},
   "outputs": [
    {
     "data": {
      "text/plain": [
       "array([[ 1.,  2.,  3.],\n",
       "       [11., 12., 13.],\n",
       "       [21., 22., 23.],\n",
       "       [31., 32., 33.]])"
      ]
     },
     "execution_count": 64,
     "metadata": {},
     "output_type": "execute_result"
    }
   ],
   "source": [
    "a = np.array([[ 0.0,  0.0,  0.0],\n",
    "              [10.0, 10.0, 10.0],\n",
    "              [20.0, 20.0, 20.0],\n",
    "              [30.0, 30.0, 30.0]])\n",
    "b = np.array([1.0, 2.0, 3.0])\n",
    "a + b"
   ]
  },
  {
   "cell_type": "code",
   "execution_count": 65,
   "id": "073cc756-495a-48d6-ae99-86e6d2f6ea06",
   "metadata": {},
   "outputs": [
    {
     "ename": "ValueError",
     "evalue": "operands could not be broadcast together with shapes (4,3) (4,) ",
     "output_type": "error",
     "traceback": [
      "\u001b[1;31m---------------------------------------------------------------------------\u001b[0m",
      "\u001b[1;31mValueError\u001b[0m                                Traceback (most recent call last)",
      "Cell \u001b[1;32mIn[65], line 2\u001b[0m\n\u001b[0;32m      1\u001b[0m b \u001b[38;5;241m=\u001b[39m np\u001b[38;5;241m.\u001b[39marray([\u001b[38;5;241m1.0\u001b[39m, \u001b[38;5;241m2.0\u001b[39m, \u001b[38;5;241m3.0\u001b[39m, \u001b[38;5;241m4.0\u001b[39m])\n\u001b[1;32m----> 2\u001b[0m \u001b[43ma\u001b[49m\u001b[43m \u001b[49m\u001b[38;5;241;43m+\u001b[39;49m\u001b[43m \u001b[49m\u001b[43mb\u001b[49m\n",
      "\u001b[1;31mValueError\u001b[0m: operands could not be broadcast together with shapes (4,3) (4,) "
     ]
    }
   ],
   "source": [
    "b = np.array([1.0, 2.0, 3.0, 4.0])\n",
    "a + b"
   ]
  },
  {
   "cell_type": "markdown",
   "id": "222b0f01-6919-4d42-91a0-4a08483b8d8e",
   "metadata": {},
   "source": [
    "As shown in Figure 2, b is added to each row of a. In Figure 3, an exception is raised because of the incompatible shapes."
   ]
  },
  {
   "attachments": {
    "4e1835ef-14d9-431f-ac7e-fe9f88578eca.png": {
     "image/png": "[encoded data removed]"
    }
   },
   "cell_type": "markdown",
   "id": "9e7a9cb1-2b5b-4c43-94dd-0a5e18bae097",
   "metadata": {},
   "source": [
    "![broadcasting_2.png](attachment:4e1835ef-14d9-431f-ac7e-fe9f88578eca.png)"
   ]
  },
  {
   "cell_type": "markdown",
   "id": "cc2fef14-de94-4169-8a84-ddf884e09f13",
   "metadata": {},
   "source": [
    "A one dimensional array added to a two dimensional array results in broadcasting if number of 1-d array elements matches the number of 2-d array columns."
   ]
  },
  {
   "attachments": {
    "c2612714-2956-432a-8c5c-773ac576cd60.png": {
     "image/png": "[encoded data removed]"
    }
   },
   "cell_type": "markdown",
   "id": "8cb946c3-a883-4289-bb9e-c6b8ebcfc304",
   "metadata": {},
   "source": [
    "![broadcasting_3.png](attachment:c2612714-2956-432a-8c5c-773ac576cd60.png)"
   ]
  },
  {
   "cell_type": "markdown",
   "id": "2f265abd-e7a3-424e-a148-e8015f4ed95c",
   "metadata": {},
   "source": [
    "When the trailing dimensions of the arrays are unequal, broadcasting fails because it is impossible to align the values in the rows of the 1st array with the elements of the 2nd arrays for element-by-element addition."
   ]
  },
  {
   "cell_type": "markdown",
   "id": "8bf542d7-cc2d-4a47-8717-e45232a93258",
   "metadata": {},
   "source": [
    "Broadcasting provides a convenient way of taking the outer product (or any other outer operation) of two arrays. The following example shows an outer addition operation of two 1-d arrays:"
   ]
  },
  {
   "cell_type": "code",
   "execution_count": 66,
   "id": "4d9b40db-bb20-4038-9ca3-bc82bbd019d7",
   "metadata": {},
   "outputs": [
    {
     "data": {
      "text/plain": [
       "array([[ 1.,  2.,  3.],\n",
       "       [11., 12., 13.],\n",
       "       [21., 22., 23.],\n",
       "       [31., 32., 33.]])"
      ]
     },
     "execution_count": 66,
     "metadata": {},
     "output_type": "execute_result"
    }
   ],
   "source": [
    "a = np.array([0.0, 10.0, 20.0, 30.0])\n",
    "b = np.array([1.0, 2.0, 3.0])\n",
    "a[:, np.newaxis] + b"
   ]
  },
  {
   "attachments": {
    "29c67b54-ae3e-4201-85f7-2fa8ea460870.png": {
     "image/png": "[encoded data removed]"
    }
   },
   "cell_type": "markdown",
   "id": "1fec31b7-e2d8-4bbc-ad26-8771fadf0b4f",
   "metadata": {},
   "source": [
    "![broadcasting_4.png](attachment:29c67b54-ae3e-4201-85f7-2fa8ea460870.png)"
   ]
  },
  {
   "cell_type": "markdown",
   "id": "3d9a5c0e-9e1d-4be6-8019-b78a18347379",
   "metadata": {},
   "source": [
    "In some cases, broadcasting stretches both arrays to form an output array larger than either of the initial arrays."
   ]
  },
  {
   "cell_type": "markdown",
   "id": "c16adc45-2be8-4a9b-9fcd-0410652b75a6",
   "metadata": {},
   "source": [
    "Here the newaxis index operator inserts a new axis into a, making it a two-dimensional 4x1 array. Combining the 4x1 array with b, which has shape (3,), yields a 4x3 array."
   ]
  },
  {
   "cell_type": "markdown",
   "id": "f8437818-ae7b-41c8-b33f-fb948ba3b46a",
   "metadata": {},
   "source": [
    "## A Practical Example: Vector Quantization\n",
    "Broadcasting comes up quite often in real world problems. A typical example occurs in the vector quantization (VQ) algorithm used in information theory, classification, and other related areas. The basic operation in VQ finds the closest point in a set of points, called codes in VQ jargon, to a given point, called the observation. In the very simple, two-dimensional case shown below, the values in observation describe the weight and height of an athlete to be classified. The codes represent different classes of athletes. [1] Finding the closest point requires calculating the distance between observation and each of the codes. The shortest distance provides the best match. In this example, codes[0] is the closest class indicating that the athlete is likely a basketball player."
   ]
  },
  {
   "cell_type": "code",
   "execution_count": null,
   "id": "38c43fc1-b1cc-478a-8946-916a824c2ed7",
   "metadata": {},
   "outputs": [],
   "source": [
    "from numpy import array, argmin, sqrt, sum\n",
    "observation = array([111.0, 188.0])\n",
    "codes = array([[102.0, 203.0],\n",
    "               [132.0, 193.0],\n",
    "               [45.0, 155.0],\n",
    "               [57.0, 173.0]])\n",
    "diff = codes - observation    # the broadcast happens here\n",
    "dist = sqrt(sum(diff**2,axis=-1))\n",
    "argmin(dist)"
   ]
  },
  {
   "cell_type": "markdown",
   "id": "01f5de66-3a07-49a2-87c7-f9ddaa805156",
   "metadata": {},
   "source": [
    "In this example, the observation array is stretched to match the shape of the codes array:"
   ]
  },
  {
   "cell_type": "code",
   "execution_count": null,
   "id": "f4b4c154-d7bf-49fd-8322-e358d648d538",
   "metadata": {},
   "outputs": [],
   "source": [
    "Observation      (1d array):      2\n",
    "Codes            (2d array):  4 x 2\n",
    "Diff             (2d array):  4 x 2"
   ]
  },
  {
   "attachments": {
    "3c3c4eb8-7ac5-4924-b4b4-e8d8cdf3f160.png": {
     "image/png": "[encoded data removed]"
    }
   },
   "cell_type": "markdown",
   "id": "83f10db9-5b47-4c4f-a7a6-70c9645732f1",
   "metadata": {},
   "source": [
    "![broadcasting_5.png](attachment:3c3c4eb8-7ac5-4924-b4b4-e8d8cdf3f160.png)"
   ]
  },
  {
   "cell_type": "markdown",
   "id": "97ee556d-a3c0-4cf3-81de-431373e8eb42",
   "metadata": {},
   "source": [
    "The basic operation of vector quantization calculates the distance between an object to be classified, the dark square, and multiple known codes, the gray circles. In this simple case, the codes represent individual classes. More complex cases use multiple codes per class."
   ]
  },
  {
   "cell_type": "markdown",
   "id": "775a9ae6-b159-4fe3-9831-33a06e3206c4",
   "metadata": {},
   "source": [
    "Typically, a large number of observations, perhaps read from a database, are compared to a set of codes. Consider this scenario:\n"
   ]
  },
  {
   "cell_type": "code",
   "execution_count": null,
   "id": "af4e6c1d-4cb0-4906-8894-e1b19fa49ab1",
   "metadata": {},
   "outputs": [],
   "source": [
    "Observation      (2d array):      10 x 3\n",
    "Codes            (3d array):   5 x 1 x 3\n",
    "Diff             (3d array):  5 x 10 x 3"
   ]
  },
  {
   "cell_type": "markdown",
   "id": "6388fdb2-3198-4471-83db-9a9f3be447ec",
   "metadata": {},
   "source": [
    "The three-dimensional array, diff, is a consequence of broadcasting, not a necessity for the calculation. Large data sets will generate a large intermediate array that is computationally inefficient. Instead, if each observation is calculated individually using a Python loop around the code in the two-dimensional example above, a much smaller array is used.\n",
    "\n",
    "Broadcasting is a powerful tool for writing short and usually intuitive code that does its computations very efficiently in C. However, there are cases when broadcasting uses unnecessarily large amounts of memory for a particular algorithm. In these cases, it is better to write the algorithm’s outer loop in Python. This may also produce more readable code, as algorithms that use broadcasting tend to become more difficult to interpret as the number of dimensions in the broadcast increases."
   ]
  },
  {
   "cell_type": "markdown",
   "id": "aeca7aa0-45ba-4727-bd94-789164233e45",
   "metadata": {},
   "source": [
    "# Advanced indexing and index tricks\n",
    "NumPy offers more indexing facilities than regular Python sequences. In addition to indexing by integers and slices, as we saw before, arrays can be indexed by arrays of integers and arrays of booleans."
   ]
  },
  {
   "cell_type": "markdown",
   "id": "663b078d-44b5-4685-8f6d-5ca4246107dc",
   "metadata": {},
   "source": [
    "## Indexing with Arrays of Indices"
   ]
  },
  {
   "cell_type": "code",
   "execution_count": null,
   "id": "f68d427d-52dd-4e08-bb65-d1eb736f2975",
   "metadata": {},
   "outputs": [],
   "source": [
    "a = np.arange(12)**2  # the first 12 square numbers\n",
    "i = np.array([1, 1, 3, 8, 5])  # an array of indices\n",
    "a[i]  # the elements of `a` at the positions `i`"
   ]
  },
  {
   "cell_type": "code",
   "execution_count": null,
   "id": "b6ca772b-e77d-4aad-a02c-abfe88827023",
   "metadata": {},
   "outputs": [],
   "source": [
    "j = np.array([[3, 4], [9, 7]])  # a bidimensional array of indices\n",
    "a[j]  # the same shape as `j`"
   ]
  },
  {
   "cell_type": "markdown",
   "id": "e32d383f-ee2e-4f55-bfd5-acd20d013bb5",
   "metadata": {},
   "source": [
    "When the indexed array a is multidimensional, a single array of indices refers to the first dimension of a. The following example shows this behavior by converting an image of labels into a color image using a palette."
   ]
  },
  {
   "cell_type": "code",
   "execution_count": null,
   "id": "b8347e5a-7541-40f5-8f7c-b1ba5f3c18d2",
   "metadata": {},
   "outputs": [],
   "source": [
    "palette = np.array([[0, 0, 0],         # black\n",
    "                    [255, 0, 0],       # red\n",
    "                    [0, 255, 0],       # green\n",
    "                    [0, 0, 255],       # blue\n",
    "                    [255, 255, 255]])  # white\n",
    "image = np.array([[0, 1, 2, 0],  # each value corresponds to a color in the palette\n",
    "                  [0, 3, 4, 0]])\n",
    "palette[image]  # the (2, 4, 3) color image"
   ]
  },
  {
   "cell_type": "markdown",
   "id": "4b5ff01e-0378-414c-83ac-2e8729911bb4",
   "metadata": {},
   "source": [
    "We can also give indexes for more than one dimension. The arrays of indices for each dimension must have the same shape."
   ]
  },
  {
   "cell_type": "code",
   "execution_count": null,
   "id": "333a63fa-8af8-4162-aec5-d36937d1c565",
   "metadata": {},
   "outputs": [],
   "source": [
    "a = np.arange(12).reshape(3, 4)\n",
    "a"
   ]
  },
  {
   "cell_type": "code",
   "execution_count": null,
   "id": "2b5c0fd6-c14f-4161-9edb-0ab0d22345bc",
   "metadata": {},
   "outputs": [],
   "source": [
    "i = np.array([[0, 1],  # indices for the first dim of `a`\n",
    "              [1, 2]])\n",
    "j = np.array([[2, 1],  # indices for the second dim\n",
    "              [3, 3]])\n",
    "a[i, j]  # i and j must have equal shape"
   ]
  },
  {
   "cell_type": "code",
   "execution_count": null,
   "id": "9d7ff7e7-3ec4-4c1e-b3ac-8bfb3fee5d15",
   "metadata": {},
   "outputs": [],
   "source": [
    "a[i, 2]"
   ]
  },
  {
   "cell_type": "code",
   "execution_count": null,
   "id": "1db7758d-c18b-4e59-9b76-edacf6c9600b",
   "metadata": {},
   "outputs": [],
   "source": [
    "a[:, j]"
   ]
  },
  {
   "cell_type": "markdown",
   "id": "2b65bcf8-457b-4aaf-a25e-4ca46ef790c6",
   "metadata": {},
   "source": [
    "In Python, arr[i, j] is exactly the same as arr[(i, j)]—so we can put i and j in a tuple and then do the indexing with that."
   ]
  },
  {
   "cell_type": "code",
   "execution_count": null,
   "id": "5c4ee257-a5cb-4427-865a-ba6f4016f0a6",
   "metadata": {},
   "outputs": [],
   "source": [
    "l = (i, j)\n",
    "# equivalent to a[i, j]\n",
    "a[l]"
   ]
  },
  {
   "cell_type": "markdown",
   "id": "24a7e407-032e-44a4-836f-35e885a06126",
   "metadata": {},
   "source": [
    "However, we can not do this by putting i and j into an array, because this array will be interpreted as indexing the first dimension of a."
   ]
  },
  {
   "cell_type": "code",
   "execution_count": null,
   "id": "bdc463cf-94ca-44c1-923c-551ab4da61ae",
   "metadata": {},
   "outputs": [],
   "source": [
    "s = np.array([i, j])\n",
    "# not what we want\n",
    "a[s]"
   ]
  },
  {
   "cell_type": "code",
   "execution_count": null,
   "id": "886247fb-6eaa-4a9b-b843-9c746541d81d",
   "metadata": {},
   "outputs": [],
   "source": [
    "# same as `a[i, j]`\n",
    "a[tuple(s)]"
   ]
  },
  {
   "cell_type": "markdown",
   "id": "9910b309-6cb3-4173-95b4-bf9f631782c5",
   "metadata": {},
   "source": [
    "Another common use of indexing with arrays is the search of the maximum value of time-dependent series:"
   ]
  },
  {
   "cell_type": "code",
   "execution_count": null,
   "id": "4e3a1d71-5580-441a-a96d-49657522e9bf",
   "metadata": {},
   "outputs": [],
   "source": [
    "time = np.linspace(20, 145, 5)  # time scale\n",
    "data = np.sin(np.arange(20)).reshape(5, 4)  # 4 time-dependent series\n",
    "time"
   ]
  },
  {
   "cell_type": "code",
   "execution_count": null,
   "id": "e50fb7fe-24e2-45bf-9bd1-c0b2921c3a7e",
   "metadata": {},
   "outputs": [],
   "source": [
    "data"
   ]
  },
  {
   "cell_type": "code",
   "execution_count": null,
   "id": "38cd5780-8295-4331-8248-e872bf5fe412",
   "metadata": {},
   "outputs": [],
   "source": [
    "# index of the maxima for each series\n",
    "ind = data.argmax(axis=0)\n",
    "ind"
   ]
  },
  {
   "cell_type": "code",
   "execution_count": null,
   "id": "c56776c1-ab4e-4cde-a443-9bcf68ed3a18",
   "metadata": {},
   "outputs": [],
   "source": [
    "# times corresponding to the maxima\n",
    "time_max = time[ind]\n",
    "data_max = data[ind, range(data.shape[1])]  # => data[ind[0], 0], data[ind[1], 1]...\n",
    "time_max"
   ]
  },
  {
   "cell_type": "code",
   "execution_count": null,
   "id": "4198131e-7eba-45e9-9c64-0f7e7875c11d",
   "metadata": {},
   "outputs": [],
   "source": [
    "data_max"
   ]
  },
  {
   "cell_type": "code",
   "execution_count": null,
   "id": "150a91f4-b17b-4ed0-bef4-eb637f8cff82",
   "metadata": {},
   "outputs": [],
   "source": [
    "np.all(data_max == data.max(axis=0))"
   ]
  },
  {
   "cell_type": "markdown",
   "id": "e1130bc4-cafb-4456-a1a9-f40d93511d19",
   "metadata": {},
   "source": [
    "You can also use indexing with arrays as a target to assign to:"
   ]
  },
  {
   "cell_type": "code",
   "execution_count": null,
   "id": "b6c2ba5e-3347-4eb3-8b01-646605e18143",
   "metadata": {},
   "outputs": [],
   "source": [
    "a = np.arange(5)\n",
    "a"
   ]
  },
  {
   "cell_type": "code",
   "execution_count": null,
   "id": "f9c12a46-7313-4b78-83d4-16460629831f",
   "metadata": {},
   "outputs": [],
   "source": [
    "a[[1, 3, 4]] = 0\n",
    "a"
   ]
  },
  {
   "cell_type": "markdown",
   "id": "b4a0476e-2690-498b-8d99-46e440f2dcc7",
   "metadata": {},
   "source": [
    "However, when the list of indices contains repetitions, the assignment is done several times, leaving behind the last value:"
   ]
  },
  {
   "cell_type": "code",
   "execution_count": null,
   "id": "011971ff-edd6-410e-a0cf-7d926c12c029",
   "metadata": {},
   "outputs": [],
   "source": [
    "a = np.arange(5)\n",
    "a[[0, 0, 2]] = [1, 2, 3]\n",
    "a"
   ]
  },
  {
   "cell_type": "markdown",
   "id": "8d171631-f92b-4096-bd01-f271fa5e89cd",
   "metadata": {},
   "source": [
    "This is reasonable enough, but watch out if you want to use Python’s += construct, as it may not do what you expect:"
   ]
  },
  {
   "cell_type": "code",
   "execution_count": null,
   "id": "1162d9a9-4bdf-4d6b-a309-6670308affd4",
   "metadata": {},
   "outputs": [],
   "source": [
    "a = np.arange(5)\n",
    "a[[0, 0, 2]] += 1\n",
    "a"
   ]
  },
  {
   "cell_type": "markdown",
   "id": "eaa78f9b-3899-4e3b-8f6b-e648c276d973",
   "metadata": {},
   "source": [
    "Even though 0 occurs twice in the list of indices, the 0th element is only incremented once. This is because Python requires a += 1 to be equivalent to a = a + 1."
   ]
  },
  {
   "cell_type": "markdown",
   "id": "6afdb095-a3d2-415a-88c6-ccbf13964880",
   "metadata": {},
   "source": [
    "## Indexing with Boolean Arrays\n",
    "When we index arrays with arrays of (integer) indices we are providing the list of indices to pick. With boolean indices the approach is different; we explicitly choose which items in the array we want and which ones we don’t.\n",
    "\n",
    "The most natural way one can think of for boolean indexing is to use boolean arrays that have the same shape as the original array:"
   ]
  },
  {
   "cell_type": "code",
   "execution_count": null,
   "id": "858bd2fc-01f6-4e85-b84a-b8f419bd7f0f",
   "metadata": {},
   "outputs": [],
   "source": [
    "a = np.arange(12).reshape(3, 4)\n",
    "b = a > 4\n",
    "b  # `b` is a boolean with `a`'s shape"
   ]
  },
  {
   "cell_type": "code",
   "execution_count": null,
   "id": "951ec847-8464-4e8f-ba75-7e210f01f60f",
   "metadata": {},
   "outputs": [],
   "source": [
    "a[b]  # 1d array with the selected elements"
   ]
  },
  {
   "cell_type": "markdown",
   "id": "ffeb3948-1f55-4b21-9dc8-70406b75ed44",
   "metadata": {},
   "source": [
    "This property can be very useful in assignments:"
   ]
  },
  {
   "cell_type": "code",
   "execution_count": null,
   "id": "5ebc10d6-8e27-4a08-85fe-4103e5a021b5",
   "metadata": {},
   "outputs": [],
   "source": [
    "a[b] = 0  # All elements of `a` higher than 4 become 0\n",
    "a"
   ]
  },
  {
   "cell_type": "markdown",
   "id": "0528d26d-2da1-4a81-b566-7595c76400d7",
   "metadata": {},
   "source": [
    "You can look at the following example to see how to use boolean indexing to generate an image of the Mandelbrot set:"
   ]
  },
  {
   "cell_type": "code",
   "execution_count": null,
   "id": "71d09f7a-6261-4e63-900b-eab7317d26a8",
   "metadata": {},
   "outputs": [],
   "source": [
    "import numpy as np\n",
    "import matplotlib.pyplot as plt\n",
    "def mandelbrot(h, w, maxit=20, r=2):\n",
    "    \"\"\"Returns an image of the Mandelbrot fractal of size (h,w).\"\"\"\n",
    "    x = np.linspace(-2.5, 1.5, 4*h+1)\n",
    "    y = np.linspace(-1.5, 1.5, 3*w+1)\n",
    "    A, B = np.meshgrid(x, y)\n",
    "    C = A + B*1j\n",
    "    z = np.zeros_like(C)\n",
    "    divtime = maxit + np.zeros(z.shape, dtype=int)\n",
    "\n",
    "    for i in range(maxit):\n",
    "        z = z**2 + C\n",
    "        diverge = abs(z) > r                    # who is diverging\n",
    "        div_now = diverge & (divtime == maxit)  # who is diverging now\n",
    "        divtime[div_now] = i                    # note when\n",
    "        z[diverge] = r                          # avoid diverging too much\n",
    "\n",
    "    return divtime\n",
    "plt.clf()\n",
    "plt.imshow(mandelbrot(400, 400))"
   ]
  },
  {
   "cell_type": "markdown",
   "id": "d8cf7306-a5ca-48bc-9922-78d7e368c6e9",
   "metadata": {},
   "source": [
    "The second way of indexing with booleans is more similar to integer indexing; for each dimension of the array we give a 1D boolean array selecting the slices we want:"
   ]
  },
  {
   "cell_type": "code",
   "execution_count": null,
   "id": "881f98b9-f011-4fef-a9b6-00d15f237a0c",
   "metadata": {},
   "outputs": [],
   "source": [
    "a = np.arange(12).reshape(3, 4)\n",
    "b1 = np.array([False, True, True])         # first dim selection\n",
    "b2 = np.array([True, False, True, False])  # second dim selection\n",
    "a[b1, :]                                   # selecting rows"
   ]
  },
  {
   "cell_type": "code",
   "execution_count": null,
   "id": "e503039b-b1bf-4d84-953f-4f0d2c56732a",
   "metadata": {},
   "outputs": [],
   "source": [
    "a[b1]                                      # same thing"
   ]
  },
  {
   "cell_type": "code",
   "execution_count": null,
   "id": "50e3c85c-d28c-4aad-9643-3d4dfcde3529",
   "metadata": {},
   "outputs": [],
   "source": [
    "a[:, b2]                                   # selecting columns"
   ]
  },
  {
   "cell_type": "code",
   "execution_count": null,
   "id": "42ab2364-0afe-4248-8ca1-94a51dc6d0a4",
   "metadata": {},
   "outputs": [],
   "source": [
    "a[b1, b2]                                  # a weird thing to do"
   ]
  },
  {
   "cell_type": "markdown",
   "id": "43908b9c-687a-4257-b89b-ae116fda922e",
   "metadata": {},
   "source": [
    "Note that the length of the 1D boolean array must coincide with the length of the dimension (or axis) you want to slice. In the previous example, b1 has length 3 (the number of rows in a), and b2 (of length 4) is suitable to index the 2nd axis (columns) of a."
   ]
  },
  {
   "cell_type": "markdown",
   "id": "bc9e2188-3b3c-4151-aa7d-4d1afb3ccc05",
   "metadata": {},
   "source": [
    "## The ix_() function\n",
    "The ix_ function can be used to combine different vectors so as to obtain the result for each n-uplet. For example, if you want to compute all the a+b*c for all the triplets taken from each of the vectors a, b and c:"
   ]
  },
  {
   "cell_type": "code",
   "execution_count": null,
   "id": "885a6393-4743-4ce4-b135-08ce314dfb75",
   "metadata": {},
   "outputs": [],
   "source": [
    "a = np.array([2, 3, 4, 5])\n",
    "b = np.array([8, 5, 4])\n",
    "c = np.array([5, 4, 6, 8, 3])\n",
    "ax, bx, cx = np.ix_(a, b, c)\n",
    "ax"
   ]
  },
  {
   "cell_type": "code",
   "execution_count": null,
   "id": "ca76b52f-2b41-42ac-a74b-3a98e0d915cd",
   "metadata": {},
   "outputs": [],
   "source": [
    "bx"
   ]
  },
  {
   "cell_type": "code",
   "execution_count": null,
   "id": "6e55e446-018e-4849-bcb1-b7f59e8cb069",
   "metadata": {},
   "outputs": [],
   "source": [
    "cx"
   ]
  },
  {
   "cell_type": "code",
   "execution_count": null,
   "id": "67423323-5933-4104-816f-1a797a425de0",
   "metadata": {},
   "outputs": [],
   "source": [
    "ax.shape, bx.shape, cx.shape"
   ]
  },
  {
   "cell_type": "code",
   "execution_count": null,
   "id": "cce7457c-7b56-4d92-8068-8eeecf501e8c",
   "metadata": {},
   "outputs": [],
   "source": [
    "result = ax + bx * cx\n",
    "result"
   ]
  },
  {
   "cell_type": "code",
   "execution_count": null,
   "id": "06949bed-90b9-4b21-88c6-eca9c15362d3",
   "metadata": {},
   "outputs": [],
   "source": [
    "result[3, 2, 4]"
   ]
  },
  {
   "cell_type": "code",
   "execution_count": null,
   "id": "334f919f-7d92-4f97-8b79-8609a118ddd5",
   "metadata": {},
   "outputs": [],
   "source": [
    "a[3] + b[2] * c[4]"
   ]
  },
  {
   "cell_type": "markdown",
   "id": "75238c61-952c-4eaf-a627-0e1b520f5612",
   "metadata": {},
   "source": [
    "You could also implement the reduce as follows:"
   ]
  },
  {
   "cell_type": "code",
   "execution_count": null,
   "id": "f2091e6c-a96d-46a5-ac18-68e791079ebc",
   "metadata": {},
   "outputs": [],
   "source": [
    "def ufunc_reduce(ufct, *vectors):\n",
    "   vs = np.ix_(*vectors)\n",
    "   r = ufct.identity\n",
    "   for v in vs:\n",
    "       r = ufct(r, v)\n",
    "   return r"
   ]
  },
  {
   "cell_type": "markdown",
   "id": "19a8a6c1-64ff-482d-82b8-daabf0fb427f",
   "metadata": {},
   "source": [
    "and then use it as:"
   ]
  },
  {
   "cell_type": "code",
   "execution_count": null,
   "id": "b020e703-41c8-4c5e-811d-43966a8f7e24",
   "metadata": {},
   "outputs": [],
   "source": [
    "ufunc_reduce(np.add, a, b, c)"
   ]
  },
  {
   "cell_type": "markdown",
   "id": "69ab954e-3724-4b15-9d13-1f321a9873d2",
   "metadata": {},
   "source": [
    "The advantage of this version of reduce compared to the normal ufunc.reduce is that it makes use of the broadcasting rules in order to avoid creating an argument array the size of the output times the number of vectors."
   ]
  },
  {
   "cell_type": "markdown",
   "id": "a84222b3-77c9-491f-a704-e7ba2ddb2f71",
   "metadata": {},
   "source": [
    "# Indexing with strings\n",
    "See https://numpy.org/doc/stable/user/basics.rec.html#structured-arrays"
   ]
  },
  {
   "cell_type": "markdown",
   "id": "59667074-4f23-4934-a7b4-1b2d66e71152",
   "metadata": {},
   "source": [
    "# Tricks and Tips\n",
    "Here we give a list of short and useful tips."
   ]
  },
  {
   "cell_type": "markdown",
   "id": "e3539ccf-e45e-466f-ab4f-579db323ed87",
   "metadata": {},
   "source": [
    "## “Automatic” Reshaping\n",
    "To change the dimensions of an array, you can omit one of the sizes which will then be deduced automatically:"
   ]
  },
  {
   "cell_type": "code",
   "execution_count": null,
   "id": "f35883c1-ed10-4ad4-aa59-10cbf41e7284",
   "metadata": {},
   "outputs": [],
   "source": [
    "a = np.arange(30)\n",
    "b = a.reshape((2, -1, 3))  # -1 means \"whatever is needed\"\n",
    "b.shape"
   ]
  },
  {
   "cell_type": "code",
   "execution_count": null,
   "id": "f7a59698-755b-4eaf-b312-aa91c0363c37",
   "metadata": {},
   "outputs": [],
   "source": [
    "b"
   ]
  },
  {
   "cell_type": "markdown",
   "id": "484b2a10-d3c3-4180-b15c-25c3ed78cee6",
   "metadata": {},
   "source": [
    "# Vector Stacking\n",
    "How do we construct a 2D array from a list of equally-sized row vectors? In MATLAB this is quite easy: if x and y are two vectors of the same length you only need do m=[x;y]. In NumPy this works via the functions column_stack, dstack, hstack and vstack, depending on the dimension in which the stacking is to be done. For example:"
   ]
  },
  {
   "cell_type": "code",
   "execution_count": null,
   "id": "888d36dc-d142-4d9b-84f3-4f59473e5825",
   "metadata": {},
   "outputs": [],
   "source": [
    "x = np.arange(0, 10, 2)\n",
    "y = np.arange(5)\n",
    "m = np.vstack([x, y])\n",
    "m"
   ]
  },
  {
   "cell_type": "code",
   "execution_count": null,
   "id": "ea89f58d-7846-4439-82cb-18795ce687e2",
   "metadata": {},
   "outputs": [],
   "source": [
    "xy = np.hstack([x, y])\n",
    "xy"
   ]
  },
  {
   "cell_type": "markdown",
   "id": "cb2d6855-8a99-48e7-bfa7-ebe5316eeaf2",
   "metadata": {},
   "source": [
    "The logic behind those functions in more than two dimensions can be strange."
   ]
  },
  {
   "cell_type": "markdown",
   "id": "b5c5e105-da81-4beb-be53-09b5f2bf8122",
   "metadata": {},
   "source": [
    "## Histograms\n",
    "The NumPy histogram function applied to an array returns a pair of vectors: the histogram of the array and a vector of the bin edges. Beware: matplotlib also has a function to build histograms (called hist, as in Matlab) that differs from the one in NumPy. The main difference is that pylab.hist plots the histogram automatically, while numpy.histogram only generates the data."
   ]
  },
  {
   "cell_type": "code",
   "execution_count": null,
   "id": "4e879261-c619-4910-9158-2f2ed3a76cba",
   "metadata": {},
   "outputs": [],
   "source": [
    "import numpy as np\n",
    "rg = np.random.default_rng(1)\n",
    "import matplotlib.pyplot as plt\n",
    "# Build a vector of 10000 normal deviates with variance 0.5^2 and mean 2\n",
    "mu, sigma = 2, 0.5\n",
    "v = rg.normal(mu, sigma, 10000)\n",
    "# Plot a normalized histogram with 50 bins\n",
    "plt.hist(v, bins=50, density=True)       # matplotlib version (plot)\n",
    "# Compute the histogram with numpy and then plot it\n",
    "(n, bins) = np.histogram(v, bins=50, density=True)  # NumPy version (no plot)\n",
    "plt.plot(.5 * (bins[1:] + bins[:-1]), n) "
   ]
  },
  {
   "cell_type": "markdown",
   "id": "8026f51f-a11d-4c08-b4bf-f0ee14be73bd",
   "metadata": {},
   "source": [
    "With Matplotlib >=3.4 you can also use plt.stairs(n, bins)."
   ]
  }
 ],
 "metadata": {
  "kernelspec": {
   "display_name": "Python 3 (ipykernel)",
   "language": "python",
   "name": "python3"
  },
  "language_info": {
   "codemirror_mode": {
    "name": "ipython",
    "version": 3
   },
   "file_extension": ".py",
   "mimetype": "text/x-python",
   "name": "python",
   "nbconvert_exporter": "python",
   "pygments_lexer": "ipython3",
   "version": "3.8.10"
  }
 },
 "nbformat": 4,
 "nbformat_minor": 5
}

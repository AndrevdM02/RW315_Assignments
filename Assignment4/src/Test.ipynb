{
 "cells": [
  {
   "cell_type": "code",
   "execution_count": 1,
   "id": "0440f920",
   "metadata": {},
   "outputs": [],
   "source": [
    "%matplotlib inline\n",
    "# Use autoreload so that updating hmm_class.py is immediately reflected in future cell executions in the notebook.\n",
    "# For details on the autoreload extension, see\n",
    "# https://ipython.org/ipython-doc/3/config/extensions/autoreload.html\n",
    "%load_ext autoreload\n",
    "%autoreload 2"
   ]
  },
  {
   "cell_type": "code",
   "execution_count": 35,
   "id": "5651de9f",
   "metadata": {},
   "outputs": [],
   "source": [
    "import numpy as np\n",
    "from gaussian import Gaussian\n",
    "from hmm_class import HMM\n",
    "from math import log"
   ]
  },
  {
   "cell_type": "code",
   "execution_count": 3,
   "id": "476ac810",
   "metadata": {},
   "outputs": [],
   "source": [
    "signal1 = np.array([[ 1. ,  1.1,  0.9, 1.0, 0.0,  0.2,  0.1,  0.3,  3.4,  3.6,  3.5]])\n",
    "signal2 = np.array([[0.8, 1.2, 0.4, 0.2, 0.15, 2.8, 3.6]])"
   ]
  },
  {
   "cell_type": "code",
   "execution_count": 4,
   "id": "6d9bfb6f",
   "metadata": {},
   "outputs": [],
   "source": [
    "data = np.hstack([signal1, signal2])\n",
    "lengths = [11, 7]"
   ]
  },
  {
   "cell_type": "code",
   "execution_count": 5,
   "id": "1f4fdd2b",
   "metadata": {},
   "outputs": [
    {
     "name": "stdout",
     "output_type": "stream",
     "text": [
      "[[-1], array([0, 0, 0, 0, 1, 1, 1, 1, 2, 2, 2], dtype=int64), [3], array([0, 0, 1, 1, 1, 2, 2], dtype=int64), [3]]\n",
      "[[-1], array([0, 0, 0, 0, 1, 1, 1, 1, 2, 2, 2], dtype=int64), [3], array([0, 0, 1, 1, 1, 2, 2], dtype=int64), [3]]\n",
      "[[-1], array([0, 0, 0, 0, 1, 1, 1, 1, 2, 2, 2], dtype=int64), [3], array([0, 0, 1, 1, 1, 2, 2], dtype=int64), [3]]\n"
     ]
    }
   ],
   "source": [
    "hmm = HMM()\n",
    "hmm.fit(data,lengths, 3)"
   ]
  },
  {
   "cell_type": "code",
   "execution_count": 6,
   "id": "e6e36017",
   "metadata": {},
   "outputs": [],
   "source": [
    "transitions = np.array([\n",
    "    [0.66666667,0.33333333, 0.,0.],\n",
    "    [0.,0.71428571,0.28571429,0.],\n",
    "    [0.,0.,0.6,0.4],\n",
    "    [1.,0.,0.,0.],\n",
    "])\n",
    "\n",
    "# Define emission distributions (Gaussians)\n",
    "dists = [\n",
    "    Gaussian(mean=np.array([1.0]), cov=np.array([[0.01666667]])),\n",
    "    Gaussian(mean=np.array([0.19285714]), cov=np.array([[0.01459184]])),\n",
    "    Gaussian(mean=np.array([3.38]), cov=np.array([[0.0896]]))\n",
    "]"
   ]
  },
  {
   "cell_type": "code",
   "execution_count": 7,
   "id": "23837b81",
   "metadata": {},
   "outputs": [],
   "source": [
    "hmm_model = HMM()\n",
    "hmm_model.load(trans=transitions, dists=dists)"
   ]
  },
  {
   "cell_type": "code",
   "execution_count": 8,
   "id": "06fdf69b",
   "metadata": {},
   "outputs": [
    {
     "data": {
      "text/plain": [
       "array([1.])"
      ]
     },
     "execution_count": 8,
     "metadata": {},
     "output_type": "execute_result"
    }
   ],
   "source": [
    "hmm_model.dists[0].get_mean()"
   ]
  },
  {
   "cell_type": "code",
   "execution_count": 9,
   "id": "30fdff53",
   "metadata": {},
   "outputs": [
    {
     "name": "stdout",
     "output_type": "stream",
     "text": [
      "[[1.10917774]\n",
      " [0.16892174]\n",
      " [0.20611344]\n",
      " [0.17334878]\n",
      " [0.09722116]\n",
      " [0.23628668]\n",
      " [3.46365092]]\n",
      "[0 1 1 1 1 1 2]\n"
     ]
    }
   ],
   "source": [
    "samples, states = hmm_model.sample()\n",
    "print(samples)\n",
    "print(states)"
   ]
  },
  {
   "cell_type": "code",
   "execution_count": 10,
   "id": "63bed6be",
   "metadata": {},
   "outputs": [
    {
     "data": {
      "text/plain": [
       "3.8216312203728853"
      ]
     },
     "execution_count": 10,
     "metadata": {},
     "output_type": "execute_result"
    }
   ],
   "source": [
    "hmm_model.load(trans=transitions, dists=dists)\n",
    "signal = np.array([[ 0.9515792,   0.9832767,   1.04633007,  1.01464327,  0.98207072, 1.01116689, 0.31622856,  0.20819263,  3.57707616]])\n",
    "vals = np.array([0, 0, 0, 0, 0, 0, 1, 1, 2])\n",
    "hmm_model.score(signal, vals)"
   ]
  },
  {
   "cell_type": "code",
   "execution_count": 11,
   "id": "8665f3d7",
   "metadata": {},
   "outputs": [
    {
     "data": {
      "text/plain": [
       "3.8216324120843645"
      ]
     },
     "execution_count": 11,
     "metadata": {},
     "output_type": "execute_result"
    }
   ],
   "source": [
    "hmm_model.forward(signal)"
   ]
  },
  {
   "cell_type": "code",
   "execution_count": 12,
   "id": "dd66ce20",
   "metadata": {},
   "outputs": [
    {
     "data": {
      "text/plain": [
       "(array([0, 0, 0, 0, 0, 0, 1, 1, 2], dtype=int64), 3.8216312203728853)"
      ]
     },
     "execution_count": 12,
     "metadata": {},
     "output_type": "execute_result"
    }
   ],
   "source": [
    "hmm_model.viterbi(signal)"
   ]
  },
  {
   "cell_type": "code",
   "execution_count": 13,
   "id": "b7f5c91e",
   "metadata": {},
   "outputs": [],
   "source": [
    "signal1 = np.array([[ 1. ,  1.1,  0.9, 1.0, 0.0,  0.2,  0.1,  0.3,  3.4,  3.6,  3.5]])\n",
    "signal2 = np.array([[0.8, 1.2, 0.4, 0.2, 0.15, 2.8, 3.6]])"
   ]
  },
  {
   "cell_type": "code",
   "execution_count": 14,
   "id": "6bbf9487",
   "metadata": {},
   "outputs": [],
   "source": [
    "data = np.hstack([signal1, signal2])\n",
    "lengths = [11, 7]"
   ]
  },
  {
   "cell_type": "code",
   "execution_count": 15,
   "id": "605c08f9",
   "metadata": {},
   "outputs": [
    {
     "name": "stdout",
     "output_type": "stream",
     "text": [
      "[[-1], array([0, 0, 0, 0, 1, 1, 1, 1, 2, 2, 2], dtype=int64), [3], array([0, 0, 1, 1, 1, 2, 2], dtype=int64), [3]]\n",
      "[[-1], array([0, 0, 0, 0, 1, 1, 1, 1, 2, 2, 2], dtype=int64), [3], array([0, 0, 1, 1, 1, 2, 2], dtype=int64), [3]]\n",
      "[[-1], array([0, 0, 0, 0, 1, 1, 1, 1, 2, 2, 2], dtype=int64), [3], array([0, 0, 1, 1, 1, 2, 2], dtype=int64), [3]]\n"
     ]
    }
   ],
   "source": [
    "hmm = HMM()\n",
    "hmm.fit(data,lengths, 3)"
   ]
  },
  {
   "cell_type": "code",
   "execution_count": 16,
   "id": "69c4a8c9",
   "metadata": {},
   "outputs": [
    {
     "data": {
      "text/plain": [
       "array([[0.66666667, 0.33333333, 0.        , 0.        ],\n",
       "       [0.        , 0.71428571, 0.28571429, 0.        ],\n",
       "       [0.        , 0.        , 0.90909091, 0.09090909],\n",
       "       [1.        , 0.        , 0.        , 0.        ]])"
      ]
     },
     "execution_count": 16,
     "metadata": {},
     "output_type": "execute_result"
    }
   ],
   "source": [
    "hmm.trans"
   ]
  },
  {
   "cell_type": "code",
   "execution_count": 17,
   "id": "6dc43967",
   "metadata": {},
   "outputs": [
    {
     "data": {
      "text/plain": [
       "array([[0.0896]])"
      ]
     },
     "execution_count": 17,
     "metadata": {},
     "output_type": "execute_result"
    }
   ],
   "source": [
    "hmm.dists[2].get_cov()"
   ]
  },
  {
   "cell_type": "code",
   "execution_count": 18,
   "id": "07f62b10",
   "metadata": {},
   "outputs": [],
   "source": [
    "hmm.load(hmm.trans, hmm.dists)"
   ]
  },
  {
   "cell_type": "code",
   "execution_count": 19,
   "id": "1213613a",
   "metadata": {},
   "outputs": [
    {
     "data": {
      "text/plain": [
       "3.821631896208668"
      ]
     },
     "execution_count": 19,
     "metadata": {},
     "output_type": "execute_result"
    }
   ],
   "source": [
    "signal = np.array([[ 0.9515792,   0.9832767,   1.04633007,  1.01464327,  0.98207072, 1.01116689, 0.31622856,  0.20819263,  3.57707616]])\n",
    "hmm.score(signal, vals)"
   ]
  },
  {
   "cell_type": "code",
   "execution_count": 20,
   "id": "00765b81",
   "metadata": {},
   "outputs": [
    {
     "data": {
      "text/plain": [
       "3.8216330879168874"
      ]
     },
     "execution_count": 20,
     "metadata": {},
     "output_type": "execute_result"
    }
   ],
   "source": [
    "hmm.forward(signal)"
   ]
  },
  {
   "cell_type": "code",
   "execution_count": 21,
   "id": "e1c38315",
   "metadata": {},
   "outputs": [
    {
     "data": {
      "text/plain": [
       "(array([0, 0, 0, 0, 0, 0, 1, 1, 2], dtype=int64), 3.8216318962086677)"
      ]
     },
     "execution_count": 21,
     "metadata": {},
     "output_type": "execute_result"
    }
   ],
   "source": [
    "hmm.viterbi(signal)"
   ]
  },
  {
   "cell_type": "code",
   "execution_count": 22,
   "id": "a546f16d",
   "metadata": {},
   "outputs": [
    {
     "data": {
      "text/plain": [
       "0.0144"
      ]
     },
     "execution_count": 22,
     "metadata": {},
     "output_type": "execute_result"
    }
   ],
   "source": [
    "0.6*0.3*0.2*0.4"
   ]
  },
  {
   "cell_type": "code",
   "execution_count": 23,
   "id": "af6765c0",
   "metadata": {},
   "outputs": [
    {
     "data": {
      "text/plain": [
       "0.261"
      ]
     },
     "execution_count": 23,
     "metadata": {},
     "output_type": "execute_result"
    }
   ],
   "source": [
    "0.9*0.29"
   ]
  },
  {
   "cell_type": "code",
   "execution_count": 24,
   "id": "67ed1369",
   "metadata": {},
   "outputs": [
    {
     "data": {
      "text/plain": [
       "0.07800000000000001"
      ]
     },
     "execution_count": 24,
     "metadata": {},
     "output_type": "execute_result"
    }
   ],
   "source": [
    "0.1*0.78"
   ]
  },
  {
   "cell_type": "code",
   "execution_count": 25,
   "id": "e4cdad66",
   "metadata": {},
   "outputs": [
    {
     "data": {
      "text/plain": [
       "0.1359366"
      ]
     },
     "execution_count": 25,
     "metadata": {},
     "output_type": "execute_result"
    }
   ],
   "source": [
    "0.71*(0.62*0.261+0.078*0.38)"
   ]
  },
  {
   "cell_type": "code",
   "execution_count": 26,
   "id": "6c685586",
   "metadata": {},
   "outputs": [
    {
     "data": {
      "text/plain": [
       "0.0227964"
      ]
     },
     "execution_count": 26,
     "metadata": {},
     "output_type": "execute_result"
    }
   ],
   "source": [
    "0.22*(0.14*0.261+0.078*0.86)"
   ]
  },
  {
   "cell_type": "code",
   "execution_count": 27,
   "id": "c5cab731",
   "metadata": {},
   "outputs": [
    {
     "data": {
      "text/plain": [
       "0.04956303348"
      ]
     },
     "execution_count": 27,
     "metadata": {},
     "output_type": "execute_result"
    }
   ],
   "source": [
    "0.29*(0.1359366*0.62+0.227964*0.38)"
   ]
  },
  {
   "cell_type": "code",
   "execution_count": 28,
   "id": "aebc12f9",
   "metadata": {},
   "outputs": [
    {
     "data": {
      "text/plain": [
       "0.030136101840000002"
      ]
     },
     "execution_count": 28,
     "metadata": {},
     "output_type": "execute_result"
    }
   ],
   "source": [
    "0.78*(0.1359366*0.14+0.0227964*0.86)"
   ]
  },
  {
   "cell_type": "code",
   "execution_count": 29,
   "id": "8af14667",
   "metadata": {},
   "outputs": [
    {
     "data": {
      "text/plain": [
       "0.07969913532"
      ]
     },
     "execution_count": 29,
     "metadata": {},
     "output_type": "execute_result"
    }
   ],
   "source": [
    "0.04956303348 + 0.030136101840000002"
   ]
  },
  {
   "cell_type": "code",
   "execution_count": 36,
   "id": "b75b1246",
   "metadata": {},
   "outputs": [
    {
     "data": {
      "text/plain": [
       "3.483630648381939"
      ]
     },
     "execution_count": 36,
     "metadata": {},
     "output_type": "execute_result"
    }
   ],
   "source": [
    "log(0.07) * -1.31"
   ]
  },
  {
   "cell_type": "code",
   "execution_count": 37,
   "id": "45bd79b0",
   "metadata": {},
   "outputs": [
    {
     "data": {
      "text/plain": [
       "3.856017365915188"
      ]
     },
     "execution_count": 37,
     "metadata": {},
     "output_type": "execute_result"
    }
   ],
   "source": [
    "log(0.13)*-1.89"
   ]
  },
  {
   "cell_type": "code",
   "execution_count": 38,
   "id": "1b5eeac8",
   "metadata": {},
   "outputs": [
    {
     "data": {
      "text/plain": [
       "2.389213282266008"
      ]
     },
     "execution_count": 38,
     "metadata": {},
     "output_type": "execute_result"
    }
   ],
   "source": [
    "-2.04*log(0.31)"
   ]
  },
  {
   "cell_type": "code",
   "execution_count": 39,
   "id": "52fba0b1",
   "metadata": {},
   "outputs": [
    {
     "data": {
      "text/plain": [
       "1.9247199803761303"
      ]
     },
     "execution_count": 39,
     "metadata": {},
     "output_type": "execute_result"
    }
   ],
   "source": [
    "log(0.27)*-1.47"
   ]
  },
  {
   "cell_type": "code",
   "execution_count": 40,
   "id": "1afcfc19",
   "metadata": {},
   "outputs": [
    {
     "data": {
      "text/plain": [
       "2.286332876270961"
      ]
     },
     "execution_count": 40,
     "metadata": {},
     "output_type": "execute_result"
    }
   ],
   "source": [
    "log(0.22)*-1.51"
   ]
  },
  {
   "cell_type": "code",
   "execution_count": 45,
   "id": "50ad9f8b",
   "metadata": {},
   "outputs": [
    {
     "data": {
      "text/plain": [
       "4096"
      ]
     },
     "execution_count": 45,
     "metadata": {},
     "output_type": "execute_result"
    }
   ],
   "source": [
    "8**4"
   ]
  },
  {
   "cell_type": "code",
   "execution_count": 71,
   "id": "04079aca",
   "metadata": {},
   "outputs": [
    {
     "data": {
      "text/plain": [
       "(array([[0.261     , 0.1226454 , 0.02353668],\n",
       "        [0.078     , 0.0365772 , 0.06088808]]),\n",
       " 0.08442475956)"
      ]
     },
     "execution_count": 71,
     "metadata": {},
     "output_type": "execute_result"
    }
   ],
   "source": [
    "start = np.array([0.9, 0.1]).reshape(-1,1)\n",
    "trans = np.array([[0.62, 0.38], [0.14, 0.86]])\n",
    "emission = np.array([[0.29, 0.71], [0.78, 0.22]])\n",
    "sign = np.array([0, 1, 0])\n",
    "hmm.probs(start, trans, emission, sign)"
   ]
  },
  {
   "cell_type": "code",
   "execution_count": 74,
   "id": "42c0cddc",
   "metadata": {},
   "outputs": [
    {
     "data": {
      "text/plain": [
       "1024"
      ]
     },
     "execution_count": 74,
     "metadata": {},
     "output_type": "execute_result"
    }
   ],
   "source": [
    "4**5"
   ]
  },
  {
   "cell_type": "code",
   "execution_count": 76,
   "id": "a81fb642",
   "metadata": {},
   "outputs": [
    {
     "data": {
      "text/plain": [
       "1024"
      ]
     },
     "execution_count": 76,
     "metadata": {},
     "output_type": "execute_result"
    }
   ],
   "source": [
    "hmm.hidden_state(5, 4)"
   ]
  },
  {
   "cell_type": "code",
   "execution_count": 78,
   "id": "ec3ba259",
   "metadata": {},
   "outputs": [
    {
     "data": {
      "text/plain": [
       "4096"
      ]
     },
     "execution_count": 78,
     "metadata": {},
     "output_type": "execute_result"
    }
   ],
   "source": [
    "hmm.hidden_state(4, 8)"
   ]
  },
  {
   "cell_type": "code",
   "execution_count": 79,
   "id": "b7429ac8",
   "metadata": {},
   "outputs": [
    {
     "data": {
      "text/plain": [
       "(array([[0.9016    , 0.06810944, 0.09152915],\n",
       "        [0.0046    , 0.04222064, 0.00249363]]),\n",
       " 0.09402278412800001)"
      ]
     },
     "execution_count": 79,
     "metadata": {},
     "output_type": "execute_result"
    }
   ],
   "source": [
    "start = np.array([0.98, 0.02]).reshape(-1,1)\n",
    "trans = np.array([[0.94, 0.06], [0.84, 0.16]])\n",
    "emission = np.array([[0.92, 0.08], [0.23, 0.77]])\n",
    "sign = np.array([0, 1, 0])\n",
    "hmm.probs(start, trans, emission, sign)"
   ]
  },
  {
   "cell_type": "code",
   "execution_count": 90,
   "id": "13edf955",
   "metadata": {},
   "outputs": [
    {
     "data": {
      "text/plain": [
       "(array([0.09966141, 0.10362906, 0.21269424, 0.32757115, 0.25644414]), 4)"
      ]
     },
     "execution_count": 90,
     "metadata": {},
     "output_type": "execute_result"
    }
   ],
   "source": [
    "prior = np.array([0.07, 0.13, 0.31, 0.27, 0.22])\n",
    "logarithmic = np.array([-1.31, -1.89, -2.04, -1.47, -1.51])\n",
    "hmm.posteriori(prior, logarithmic)"
   ]
  },
  {
   "cell_type": "code",
   "execution_count": 98,
   "id": "adeb8e16",
   "metadata": {},
   "outputs": [
    {
     "data": {
      "text/plain": [
       "0.0010000000000000002"
      ]
     },
     "execution_count": 98,
     "metadata": {},
     "output_type": "execute_result"
    }
   ],
   "source": [
    "trans = np.array([[0.3, 0.1, 0.6], [0.5, 0.4, 0.1], [0.2, 0.3, 0.5]])\n",
    "start = 2\n",
    "seq = np.array([2,0,1,2])\n",
    "hmm.prediction(trans, seq, start)"
   ]
  },
  {
   "cell_type": "code",
   "execution_count": 99,
   "id": "b650b303",
   "metadata": {},
   "outputs": [
    {
     "data": {
      "text/plain": [
       "0.0144"
      ]
     },
     "execution_count": 99,
     "metadata": {},
     "output_type": "execute_result"
    }
   ],
   "source": [
    "trans = np.array([[0.2, 0.2, 0.6], [0.3, 0.3, 0.4], [0.6, 0.1, 0.3]])\n",
    "start = 2\n",
    "seq = np.array([2,0,1,2])\n",
    "hmm.prediction(trans, seq, start)"
   ]
  },
  {
   "cell_type": "code",
   "execution_count": 100,
   "id": "2fcd1109",
   "metadata": {},
   "outputs": [
    {
     "data": {
      "text/plain": [
       "0.0144"
      ]
     },
     "execution_count": 100,
     "metadata": {},
     "output_type": "execute_result"
    }
   ],
   "source": [
    "trans = np.array([[0.2, 0.2, 0.6], [0.3, 0.3, 0.4], [0.6, 0.1, 0.3]])\n",
    "start = 2\n",
    "seq = np.array([2,0,1,2])\n",
    "hmm.prediction(trans, seq, start)"
   ]
  },
  {
   "cell_type": "code",
   "execution_count": 102,
   "id": "39f01648",
   "metadata": {},
   "outputs": [
    {
     "data": {
      "text/plain": [
       "(array([0.09966141, 0.10362906, 0.21269424, 0.32757115, 0.25644414]), 4)"
      ]
     },
     "execution_count": 102,
     "metadata": {},
     "output_type": "execute_result"
    }
   ],
   "source": [
    "prior = np.array([0.07, 0.13, 0.31, 0.27, 0.22])\n",
    "l = np.array([-1.31, -1.89, -2.04, -1.47, -1.51])\n",
    "hmm.posteriori(prior, l)"
   ]
  },
  {
   "cell_type": "code",
   "execution_count": 107,
   "id": "9a1f8137",
   "metadata": {},
   "outputs": [
    {
     "data": {
      "text/plain": [
       "4096"
      ]
     },
     "execution_count": 107,
     "metadata": {},
     "output_type": "execute_result"
    }
   ],
   "source": [
    "hmm.hidden_state(4,8)"
   ]
  },
  {
   "cell_type": "code",
   "execution_count": 108,
   "id": "3397648c",
   "metadata": {},
   "outputs": [
    {
     "data": {
      "text/plain": [
       "(array([[0.261     , 0.1226454 , 0.02353668],\n",
       "        [0.078     , 0.0365772 , 0.06088808]]),\n",
       " 0.08442475956)"
      ]
     },
     "execution_count": 108,
     "metadata": {},
     "output_type": "execute_result"
    }
   ],
   "source": [
    "start = np.array([0.9, 0.1]).reshape(-1,1)\n",
    "trans = np.array([[0.62, 0.38],[0.14, 0.86]])\n",
    "emission = np.array([[0.29, 0.71],[0.78, 0.22]])\n",
    "sign = np.array([0,1,0])\n",
    "hmm.probs(start, trans, emission,sign)"
   ]
  }
 ],
 "metadata": {
  "kernelspec": {
   "display_name": "Python 3 (ipykernel)",
   "language": "python",
   "name": "python3"
  },
  "language_info": {
   "codemirror_mode": {
    "name": "ipython",
    "version": 3
   },
   "file_extension": ".py",
   "mimetype": "text/x-python",
   "name": "python",
   "nbconvert_exporter": "python",
   "pygments_lexer": "ipython3",
   "version": "3.9.12"
  }
 },
 "nbformat": 4,
 "nbformat_minor": 5
}
